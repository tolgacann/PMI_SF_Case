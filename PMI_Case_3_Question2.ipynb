{
 "cells": [
  {
   "cell_type": "code",
   "execution_count": 1,
   "metadata": {},
   "outputs": [],
   "source": [
    "import pandas as pd\n",
    "import numpy as np\n",
    "from os import listdir\n",
    "from math import radians, cos, sin, asin, sqrt\n",
    "from datetime import datetime\n",
    "from matplotlib import pyplot as plt\n",
    "from sklearn.model_selection import train_test_split\n",
    "from sklearn.preprocessing import LabelEncoder\n",
    "from sklearn.metrics import confusion_matrix \n",
    "from sklearn.metrics import accuracy_score \n",
    "from sklearn.metrics import classification_report \n",
    "from sklearn.metrics import mean_squared_error\n",
    "from sklearn.preprocessing import StandardScaler\n",
    "import warnings\n",
    "from sklearn.model_selection import RandomizedSearchCV, GridSearchCV, KFold\n",
    "import lightgbm as lgb\n",
    "warnings.filterwarnings(\"ignore\")\n",
    "warnings.simplefilter(action='ignore', category=FutureWarning)\n",
    "pd.set_option('display.float_format', lambda x: '%.2f' % x)"
   ]
  },
  {
   "cell_type": "markdown",
   "metadata": {},
   "source": [
    "### READ DATA"
   ]
  },
  {
   "cell_type": "code",
   "execution_count": 2,
   "metadata": {},
   "outputs": [],
   "source": [
    "all_df = pd.read_pickle('all_df.pkl')"
   ]
  },
  {
   "cell_type": "markdown",
   "metadata": {},
   "source": [
    "## Question2"
   ]
  },
  {
   "cell_type": "markdown",
   "metadata": {},
   "source": [
    "We have data of San Francisco taxi cabs with 11 million rows. 538 taxi cab data is collected over a month period.\n",
    "\n",
    "\n",
    "Question 2 : \n",
    "\n",
    "To build a predictor for taxi drivers, predicting the next place a passenger will hail a cab."
   ]
  },
  {
   "cell_type": "markdown",
   "metadata": {},
   "source": [
    "First I restricted my data to get out of outliers. I restricted dataset with San Francisco's Latitude and longitude information"
   ]
  },
  {
   "cell_type": "code",
   "execution_count": 3,
   "metadata": {},
   "outputs": [],
   "source": [
    "all_df = all_df[(all_df['latitude']>37.1897)&(all_df['latitude']<38.2033)&(all_df['longitude']>-122.6445)&(all_df['longitude']<-121.5871)]"
   ]
  },
  {
   "cell_type": "code",
   "execution_count": 4,
   "metadata": {
    "scrolled": true
   },
   "outputs": [
    {
     "data": {
      "text/plain": [
       "580"
      ]
     },
     "execution_count": 4,
     "metadata": {},
     "output_type": "execute_result"
    }
   ],
   "source": [
    "all_df.target_column.nunique()"
   ]
  },
  {
   "cell_type": "code",
   "execution_count": 5,
   "metadata": {},
   "outputs": [],
   "source": [
    "#filter all the rows which don't have the target column (occupation status=1)\n",
    "all_df['target_column'].replace('', np.nan, inplace=True)\n",
    "X = all_df.dropna(subset=['target_column'])"
   ]
  },
  {
   "cell_type": "code",
   "execution_count": 6,
   "metadata": {},
   "outputs": [
    {
     "data": {
      "text/plain": [
       "(6638519, 15)"
      ]
     },
     "execution_count": 6,
     "metadata": {},
     "output_type": "execute_result"
    }
   ],
   "source": [
    "X.shape"
   ]
  },
  {
   "cell_type": "code",
   "execution_count": 7,
   "metadata": {
    "scrolled": true
   },
   "outputs": [
    {
     "data": {
      "text/plain": [
       "0    6175163\n",
       "1     463356\n",
       "Name: occupation, dtype: int64"
      ]
     },
     "execution_count": 7,
     "metadata": {},
     "output_type": "execute_result"
    }
   ],
   "source": [
    "X.occupation.value_counts()"
   ]
  },
  {
   "cell_type": "code",
   "execution_count": 8,
   "metadata": {},
   "outputs": [],
   "source": [
    "#Because of performance problems I selected only the first line when a taxi cab returns to 0\n",
    "X_with_0_values = X[(X['occupation']==0)&(X['previous_occupation_status']==1)]\n",
    "y = X_with_0_values['target_column']"
   ]
  },
  {
   "cell_type": "markdown",
   "metadata": {},
   "source": [
    "Final Data Frame with shape :"
   ]
  },
  {
   "cell_type": "code",
   "execution_count": 9,
   "metadata": {},
   "outputs": [
    {
     "data": {
      "text/plain": [
       "(463357, 15)"
      ]
     },
     "execution_count": 9,
     "metadata": {},
     "output_type": "execute_result"
    }
   ],
   "source": [
    "X_with_0_values.shape"
   ]
  },
  {
   "cell_type": "markdown",
   "metadata": {},
   "source": [
    "### Baseline1 for MultiClass Classification"
   ]
  },
  {
   "cell_type": "markdown",
   "metadata": {},
   "source": [
    "Baseline 1 is calculated with the logic of a taxi cab can find a customer at the same location when its occupation status changed to 0."
   ]
  },
  {
   "cell_type": "code",
   "execution_count": 10,
   "metadata": {},
   "outputs": [],
   "source": [
    "baseline_df = X_with_0_values"
   ]
  },
  {
   "cell_type": "code",
   "execution_count": 11,
   "metadata": {},
   "outputs": [],
   "source": [
    "#writing last_location as prediction\n",
    "baseline_df['last_location'] = baseline_df.latitude.round(2).astype('str') + baseline_df.longitude.round(2).astype('str')"
   ]
  },
  {
   "cell_type": "markdown",
   "metadata": {},
   "source": [
    "Accuracy refers to the proportion of the total number of predictions that were correct."
   ]
  },
  {
   "cell_type": "code",
   "execution_count": 12,
   "metadata": {},
   "outputs": [
    {
     "data": {
      "text/plain": [
       "0.3236316706125083"
      ]
     },
     "execution_count": 12,
     "metadata": {},
     "output_type": "execute_result"
    }
   ],
   "source": [
    "accuracy_score(baseline_df['target_column'],baseline_df['last_location'])"
   ]
  },
  {
   "cell_type": "markdown",
   "metadata": {},
   "source": [
    "### Baseline2  for MultiClass Classification"
   ]
  },
  {
   "cell_type": "markdown",
   "metadata": {},
   "source": [
    "Baseline 2 is calculated with the logic of a taxi cab find a customer at the most frequent place."
   ]
  },
  {
   "cell_type": "code",
   "execution_count": 13,
   "metadata": {},
   "outputs": [
    {
     "data": {
      "text/plain": [
       "0.11561279963397553"
      ]
     },
     "execution_count": 13,
     "metadata": {},
     "output_type": "execute_result"
    }
   ],
   "source": [
    "baseline_df['target_column'].value_counts().max()/len(baseline_df['target_column'])"
   ]
  },
  {
   "cell_type": "markdown",
   "metadata": {},
   "source": [
    "# 1. Multiclass Classification Modelling"
   ]
  },
  {
   "cell_type": "markdown",
   "metadata": {},
   "source": [
    "### LightGBM baseline model for multiclass classification"
   ]
  },
  {
   "cell_type": "code",
   "execution_count": 14,
   "metadata": {},
   "outputs": [],
   "source": [
    "labelencoder = LabelEncoder()\n",
    "y = labelencoder.fit_transform(y)"
   ]
  },
  {
   "cell_type": "markdown",
   "metadata": {},
   "source": [
    "Don't want to use unneccessary columns, therefore I restricted with following features"
   ]
  },
  {
   "cell_type": "code",
   "execution_count": 15,
   "metadata": {},
   "outputs": [],
   "source": [
    "X_with_0_values = X_with_0_values[['latitude', 'longitude','taxi_id','day_of_week', 'hour','holiday']]"
   ]
  },
  {
   "cell_type": "code",
   "execution_count": 16,
   "metadata": {},
   "outputs": [],
   "source": [
    "#we need to convert categorical features to category for lightgbm algorithm\n",
    "cat_col = X_with_0_values.select_dtypes('object').columns.tolist()"
   ]
  },
  {
   "cell_type": "code",
   "execution_count": 17,
   "metadata": {},
   "outputs": [],
   "source": [
    "for feature in cat_col:\n",
    "    X_with_0_values[feature] = pd.Series(X_with_0_values[feature], dtype=\"category\")"
   ]
  },
  {
   "cell_type": "code",
   "execution_count": 18,
   "metadata": {},
   "outputs": [],
   "source": [
    "# Reserved %80 of data to train and %20 to test\n",
    "X_train, X_test, y_train, y_test = train_test_split(X_with_0_values, y, test_size=0.20, random_state=42)"
   ]
  },
  {
   "cell_type": "code",
   "execution_count": 22,
   "metadata": {},
   "outputs": [],
   "source": [
    "d_train = lgb.Dataset(X_train, label=y_train)\n",
    "params = {}\n",
    "params['learning_rate'] = 0.01\n",
    "params['boosting_type'] = 'gbdt'\n",
    "params['objective'] = 'multiclass'\n",
    "params['metric'] = 'multi_logloss'\n",
    "params['max_depth'] = 10\n",
    "params['num_class']=579\n",
    "params['num_leaves'] = 50\n",
    "params['bagging_fraction']= 0.3\n",
    "params['num_threads']=4\n",
    "params['max_bin']=50\n",
    "params['random_state'] = 42\n"
   ]
  },
  {
   "cell_type": "code",
   "execution_count": 23,
   "metadata": {},
   "outputs": [],
   "source": [
    "d_valid = lgb.Dataset(X_test, label=y_test)\n",
    "\n",
    "evals_results = {}\n"
   ]
  },
  {
   "cell_type": "code",
   "execution_count": 24,
   "metadata": {
    "scrolled": true
   },
   "outputs": [
    {
     "name": "stdout",
     "output_type": "stream",
     "text": [
      "[LightGBM] [Warning] Auto-choosing row-wise multi-threading, the overhead of testing was 0.001425 seconds.\n",
      "You can set `force_row_wise=true` to remove the overhead.\n",
      "And if memory is not enough, you can set `force_col_wise=true`.\n",
      "[LightGBM] [Info] Total Bins 639\n",
      "[LightGBM] [Info] Number of data points in the train set: 370685, number of used features: 6\n",
      "[LightGBM] [Info] Start training from score -12.823108\n",
      "[LightGBM] [Info] Start training from score -12.823108\n",
      "[LightGBM] [Info] Start training from score -12.823108\n",
      "[LightGBM] [Info] Start training from score -12.823108\n",
      "[LightGBM] [Info] Start training from score -12.823108\n",
      "[LightGBM] [Info] Start training from score -12.823108\n",
      "[LightGBM] [Info] Start training from score -12.823108\n",
      "[LightGBM] [Info] Start training from score -12.823108\n",
      "[LightGBM] [Info] Start training from score -12.823108\n",
      "[LightGBM] [Info] Start training from score -12.823108\n",
      "[LightGBM] [Info] Start training from score -34.538776\n",
      "[LightGBM] [Info] Start training from score -12.823108\n",
      "[LightGBM] [Info] Start training from score -12.823108\n",
      "[LightGBM] [Info] Start training from score -34.538776\n",
      "[LightGBM] [Info] Start training from score -11.724496\n",
      "[LightGBM] [Info] Start training from score -34.538776\n",
      "[LightGBM] [Info] Start training from score -12.823108\n",
      "[LightGBM] [Info] Start training from score -12.823108\n",
      "[LightGBM] [Info] Start training from score -12.823108\n",
      "[LightGBM] [Info] Start training from score -12.823108\n",
      "[LightGBM] [Info] Start training from score -12.823108\n",
      "[LightGBM] [Info] Start training from score -12.823108\n",
      "[LightGBM] [Info] Start training from score -34.538776\n",
      "[LightGBM] [Info] Start training from score -12.823108\n",
      "[LightGBM] [Info] Start training from score -12.823108\n",
      "[LightGBM] [Info] Start training from score -34.538776\n",
      "[LightGBM] [Info] Start training from score -12.823108\n",
      "[LightGBM] [Info] Start training from score -12.129961\n",
      "[LightGBM] [Info] Start training from score -11.436814\n",
      "[LightGBM] [Info] Start training from score -12.823108\n",
      "[LightGBM] [Info] Start training from score -12.129961\n",
      "[LightGBM] [Info] Start training from score -12.823108\n",
      "[LightGBM] [Info] Start training from score -12.823108\n",
      "[LightGBM] [Info] Start training from score -12.129961\n",
      "[LightGBM] [Info] Start training from score -34.538776\n",
      "[LightGBM] [Info] Start training from score -12.823108\n",
      "[LightGBM] [Info] Start training from score -12.823108\n",
      "[LightGBM] [Info] Start training from score -12.129961\n",
      "[LightGBM] [Info] Start training from score -11.724496\n",
      "[LightGBM] [Info] Start training from score -12.823108\n",
      "[LightGBM] [Info] Start training from score -34.538776\n",
      "[LightGBM] [Info] Start training from score -12.823108\n",
      "[LightGBM] [Info] Start training from score -12.823108\n",
      "[LightGBM] [Info] Start training from score -11.724496\n",
      "[LightGBM] [Info] Start training from score -12.129961\n",
      "[LightGBM] [Info] Start training from score -12.823108\n",
      "[LightGBM] [Info] Start training from score -34.538776\n",
      "[LightGBM] [Info] Start training from score -12.823108\n",
      "[LightGBM] [Info] Start training from score -12.823108\n",
      "[LightGBM] [Info] Start training from score -34.538776\n",
      "[LightGBM] [Info] Start training from score -12.823108\n",
      "[LightGBM] [Info] Start training from score -12.823108\n",
      "[LightGBM] [Info] Start training from score -11.436814\n",
      "[LightGBM] [Info] Start training from score -12.129961\n",
      "[LightGBM] [Info] Start training from score -12.823108\n",
      "[LightGBM] [Info] Start training from score -34.538776\n",
      "[LightGBM] [Info] Start training from score -11.436814\n",
      "[LightGBM] [Info] Start training from score -12.823108\n",
      "[LightGBM] [Info] Start training from score -12.823108\n",
      "[LightGBM] [Info] Start training from score -12.129961\n",
      "[LightGBM] [Info] Start training from score -11.724496\n",
      "[LightGBM] [Info] Start training from score -12.823108\n",
      "[LightGBM] [Info] Start training from score -12.823108\n",
      "[LightGBM] [Info] Start training from score -12.823108\n",
      "[LightGBM] [Info] Start training from score -12.823108\n",
      "[LightGBM] [Info] Start training from score -12.823108\n",
      "[LightGBM] [Info] Start training from score -34.538776\n",
      "[LightGBM] [Info] Start training from score -12.823108\n",
      "[LightGBM] [Info] Start training from score -12.129961\n",
      "[LightGBM] [Info] Start training from score -12.823108\n",
      "[LightGBM] [Info] Start training from score -12.823108\n",
      "[LightGBM] [Info] Start training from score -12.823108\n",
      "[LightGBM] [Info] Start training from score -12.823108\n",
      "[LightGBM] [Info] Start training from score -12.823108\n",
      "[LightGBM] [Info] Start training from score -12.823108\n",
      "[LightGBM] [Info] Start training from score -12.129961\n",
      "[LightGBM] [Info] Start training from score -12.823108\n",
      "[LightGBM] [Info] Start training from score -34.538776\n",
      "[LightGBM] [Info] Start training from score -34.538776\n",
      "[LightGBM] [Info] Start training from score -12.129961\n",
      "[LightGBM] [Info] Start training from score -34.538776\n",
      "[LightGBM] [Info] Start training from score -12.823108\n",
      "[LightGBM] [Info] Start training from score -12.823108\n",
      "[LightGBM] [Info] Start training from score -12.823108\n",
      "[LightGBM] [Info] Start training from score -12.823108\n",
      "[LightGBM] [Info] Start training from score -12.129961\n",
      "[LightGBM] [Info] Start training from score -12.823108\n",
      "[LightGBM] [Info] Start training from score -12.823108\n",
      "[LightGBM] [Info] Start training from score -11.724496\n",
      "[LightGBM] [Info] Start training from score -12.823108\n",
      "[LightGBM] [Info] Start training from score -34.538776\n",
      "[LightGBM] [Info] Start training from score -12.129961\n",
      "[LightGBM] [Info] Start training from score -12.823108\n",
      "[LightGBM] [Info] Start training from score -11.724496\n",
      "[LightGBM] [Info] Start training from score -12.823108\n",
      "[LightGBM] [Info] Start training from score -12.823108\n",
      "[LightGBM] [Info] Start training from score -12.129961\n",
      "[LightGBM] [Info] Start training from score -12.823108\n",
      "[LightGBM] [Info] Start training from score -12.823108\n",
      "[LightGBM] [Info] Start training from score -12.129961\n",
      "[LightGBM] [Info] Start training from score -11.436814\n",
      "[LightGBM] [Info] Start training from score -11.436814\n",
      "[LightGBM] [Info] Start training from score -11.724496\n",
      "[LightGBM] [Info] Start training from score -12.823108\n",
      "[LightGBM] [Info] Start training from score -12.823108\n",
      "[LightGBM] [Info] Start training from score -12.823108\n",
      "[LightGBM] [Info] Start training from score -11.213670\n",
      "[LightGBM] [Info] Start training from score -11.724496\n",
      "[LightGBM] [Info] Start training from score -12.823108\n",
      "[LightGBM] [Info] Start training from score -10.425213\n",
      "[LightGBM] [Info] Start training from score -12.129961\n",
      "[LightGBM] [Info] Start training from score -12.129961\n",
      "[LightGBM] [Info] Start training from score -12.129961\n",
      "[LightGBM] [Info] Start training from score -11.213670\n",
      "[LightGBM] [Info] Start training from score -12.823108\n",
      "[LightGBM] [Info] Start training from score -11.031348\n",
      "[LightGBM] [Info] Start training from score -11.213670\n",
      "[LightGBM] [Info] Start training from score -12.823108\n",
      "[LightGBM] [Info] Start training from score -12.823108\n",
      "[LightGBM] [Info] Start training from score -12.823108\n",
      "[LightGBM] [Info] Start training from score -12.823108\n",
      "[LightGBM] [Info] Start training from score -10.625883\n",
      "[LightGBM] [Info] Start training from score -11.724496\n",
      "[LightGBM] [Info] Start training from score -12.823108\n",
      "[LightGBM] [Info] Start training from score -12.823108\n",
      "[LightGBM] [Info] Start training from score -12.129961\n",
      "[LightGBM] [Info] Start training from score -12.129961\n",
      "[LightGBM] [Info] Start training from score -12.823108\n",
      "[LightGBM] [Info] Start training from score -12.823108\n",
      "[LightGBM] [Info] Start training from score -12.823108\n",
      "[LightGBM] [Info] Start training from score -12.823108\n",
      "[LightGBM] [Info] Start training from score -10.877198\n",
      "[LightGBM] [Info] Start training from score -9.989895\n",
      "[LightGBM] [Info] Start training from score -9.827376\n",
      "[LightGBM] [Info] Start training from score -9.159546\n",
      "[LightGBM] [Info] Start training from score -9.878669\n",
      "[LightGBM] [Info] Start training from score -11.031348\n",
      "[LightGBM] [Info] Start training from score -12.823108\n",
      "[LightGBM] [Info] Start training from score -12.823108\n",
      "[LightGBM] [Info] Start training from score -12.823108\n",
      "[LightGBM] [Info] Start training from score -34.538776\n",
      "[LightGBM] [Info] Start training from score -12.823108\n",
      "[LightGBM] [Info] Start training from score -12.823108\n",
      "[LightGBM] [Info] Start training from score -12.823108\n",
      "[LightGBM] [Info] Start training from score -9.159546\n",
      "[LightGBM] [Info] Start training from score -7.024015\n",
      "[LightGBM] [Info] Start training from score -10.258159\n",
      "[LightGBM] [Info] Start training from score -12.129961\n",
      "[LightGBM] [Info] Start training from score -12.129961\n",
      "[LightGBM] [Info] Start training from score -34.538776\n",
      "[LightGBM] [Info] Start training from score -12.823108\n",
      "[LightGBM] [Info] Start training from score -12.823108\n",
      "[LightGBM] [Info] Start training from score -9.357372\n",
      "[LightGBM] [Info] Start training from score -5.480329\n",
      "[LightGBM] [Info] Start training from score -6.336947\n",
      "[LightGBM] [Info] Start training from score -11.724496\n",
      "[LightGBM] [Info] Start training from score -12.823108\n",
      "[LightGBM] [Info] Start training from score -34.538776\n",
      "[LightGBM] [Info] Start training from score -5.811894\n",
      "[LightGBM] [Info] Start training from score -3.450394\n",
      "[LightGBM] [Info] Start training from score -5.132822\n",
      "[LightGBM] [Info] Start training from score -12.823108\n",
      "[LightGBM] [Info] Start training from score -34.538776\n",
      "[LightGBM] [Info] Start training from score -12.823108\n",
      "[LightGBM] [Info] Start training from score -12.823108\n",
      "[LightGBM] [Info] Start training from score -11.724496\n",
      "[LightGBM] [Info] Start training from score -5.756641\n",
      "[LightGBM] [Info] Start training from score -8.728763\n",
      "[LightGBM] [Info] Start training from score -9.016445\n",
      "[LightGBM] [Info] Start training from score -9.989895\n",
      "[LightGBM] [Info] Start training from score -11.213670\n",
      "[LightGBM] [Info] Start training from score -12.823108\n",
      "[LightGBM] [Info] Start training from score -12.823108\n",
      "[LightGBM] [Info] Start training from score -12.823108\n",
      "[LightGBM] [Info] Start training from score -12.823108\n",
      "[LightGBM] [Info] Start training from score -12.823108\n",
      "[LightGBM] [Info] Start training from score -7.619101\n",
      "[LightGBM] [Info] Start training from score -6.898852\n",
      "[LightGBM] [Info] Start training from score -11.213670\n",
      "[LightGBM] [Info] Start training from score -12.129961\n",
      "[LightGBM] [Info] Start training from score -10.338201\n",
      "[LightGBM] [Info] Start training from score -10.877198\n",
      "[LightGBM] [Info] Start training from score -12.129961\n",
      "[LightGBM] [Info] Start training from score -12.823108\n",
      "[LightGBM] [Info] Start training from score -12.823108\n",
      "[LightGBM] [Info] Start training from score -12.823108\n",
      "[LightGBM] [Info] Start training from score -11.724496\n",
      "[LightGBM] [Info] Start training from score -11.436814\n",
      "[LightGBM] [Info] Start training from score -10.425213\n",
      "[LightGBM] [Info] Start training from score -7.274032\n",
      "[LightGBM] [Info] Start training from score -12.129961\n",
      "[LightGBM] [Info] Start training from score -10.625883\n",
      "[LightGBM] [Info] Start training from score -12.129961\n",
      "[LightGBM] [Info] Start training from score -12.823108\n",
      "[LightGBM] [Info] Start training from score -12.823108\n",
      "[LightGBM] [Info] Start training from score -12.823108\n",
      "[LightGBM] [Info] Start training from score -11.436814\n",
      "[LightGBM] [Info] Start training from score -7.839501\n",
      "[LightGBM] [Info] Start training from score -8.095720\n",
      "[LightGBM] [Info] Start training from score -12.129961\n",
      "[LightGBM] [Info] Start training from score -12.823108\n",
      "[LightGBM] [Info] Start training from score -12.129961\n",
      "[LightGBM] [Info] Start training from score -11.724496\n",
      "[LightGBM] [Info] Start training from score -10.877198\n",
      "[LightGBM] [Info] Start training from score -11.436814\n",
      "[LightGBM] [Info] Start training from score -11.724496\n",
      "[LightGBM] [Info] Start training from score -34.538776\n",
      "[LightGBM] [Info] Start training from score -11.436814\n",
      "[LightGBM] [Info] Start training from score -6.707216\n",
      "[LightGBM] [Info] Start training from score -8.404267\n",
      "[LightGBM] [Info] Start training from score -12.823108\n",
      "[LightGBM] [Info] Start training from score -34.538776\n",
      "[LightGBM] [Info] Start training from score -34.538776\n",
      "[LightGBM] [Info] Start training from score -12.129961\n",
      "[LightGBM] [Info] Start training from score -11.031348\n",
      "[LightGBM] [Info] Start training from score -11.436814\n",
      "[LightGBM] [Info] Start training from score -12.823108\n",
      "[LightGBM] [Info] Start training from score -6.917746\n",
      "[LightGBM] [Info] Start training from score -12.129961\n",
      "[LightGBM] [Info] Start training from score -12.823108\n",
      "[LightGBM] [Info] Start training from score -12.823108\n",
      "[LightGBM] [Info] Start training from score -10.520523\n",
      "[LightGBM] [Info] Start training from score -12.129961\n",
      "[LightGBM] [Info] Start training from score -12.823108\n",
      "[LightGBM] [Info] Start training from score -12.823108\n",
      "[LightGBM] [Info] Start training from score -12.823108\n",
      "[LightGBM] [Info] Start training from score -8.113578\n",
      "[LightGBM] [Info] Start training from score -12.823108\n",
      "[LightGBM] [Info] Start training from score -12.823108\n",
      "[LightGBM] [Info] Start training from score -10.520523\n",
      "[LightGBM] [Info] Start training from score -11.436814\n",
      "[LightGBM] [Info] Start training from score -10.338201\n",
      "[LightGBM] [Info] Start training from score -12.129961\n",
      "[LightGBM] [Info] Start training from score -34.538776\n",
      "[LightGBM] [Info] Start training from score -12.823108\n",
      "[LightGBM] [Info] Start training from score -12.823108\n",
      "[LightGBM] [Info] Start training from score -12.823108\n",
      "[LightGBM] [Info] Start training from score -8.380457\n",
      "[LightGBM] [Info] Start training from score -10.877198\n",
      "[LightGBM] [Info] Start training from score -10.625883\n",
      "[LightGBM] [Info] Start training from score -12.823108\n",
      "[LightGBM] [Info] Start training from score -10.625883\n",
      "[LightGBM] [Info] Start training from score -10.184051\n",
      "[LightGBM] [Info] Start training from score -10.258159\n",
      "[LightGBM] [Info] Start training from score -12.823108\n",
      "[LightGBM] [Info] Start training from score -12.823108\n",
      "[LightGBM] [Info] Start training from score -12.823108\n",
      "[LightGBM] [Info] Start training from score -12.823108\n",
      "[LightGBM] [Info] Start training from score -9.989895\n",
      "[LightGBM] [Info] Start training from score -12.823108\n",
      "[LightGBM] [Info] Start training from score -8.712234\n",
      "[LightGBM] [Info] Start training from score -8.380457\n",
      "[LightGBM] [Info] Start training from score -8.492375\n",
      "[LightGBM] [Info] Start training from score -8.404267\n",
      "[LightGBM] [Info] Start training from score -8.951907\n",
      "[LightGBM] [Info] Start training from score -8.131760\n",
      "[LightGBM] [Info] Start training from score -8.131760\n",
      "[LightGBM] [Info] Start training from score -8.258760\n",
      "[LightGBM] [Info] Start training from score -8.546442\n",
      "[LightGBM] [Info] Start training from score -11.213670\n",
      "[LightGBM] [Info] Start training from score -11.031348\n",
      "[LightGBM] [Info] Start training from score -12.129961\n",
      "[LightGBM] [Info] Start training from score -11.724496\n",
      "[LightGBM] [Info] Start training from score -34.538776\n",
      "[LightGBM] [Info] Start training from score -12.129961\n",
      "[LightGBM] [Info] Start training from score -34.538776\n",
      "[LightGBM] [Info] Start training from score -8.951907\n",
      "[LightGBM] [Info] Start training from score -7.146354\n",
      "[LightGBM] [Info] Start training from score -8.712234\n",
      "[LightGBM] [Info] Start training from score -9.645054\n",
      "[LightGBM] [Info] Start training from score -7.126014\n",
      "[LightGBM] [Info] Start training from score -6.375802\n",
      "[LightGBM] [Info] Start training from score -7.321850\n",
      "[LightGBM] [Info] Start training from score -7.741704\n",
      "[LightGBM] [Info] Start training from score -7.635722\n",
      "[LightGBM] [Info] Start training from score -7.202707\n",
      "[LightGBM] [Info] Start training from score -11.436814\n",
      "[LightGBM] [Info] Start training from score -9.687614\n",
      "[LightGBM] [Info] Start training from score -11.724496\n",
      "[LightGBM] [Info] Start training from score -34.538776\n",
      "[LightGBM] [Info] Start training from score -12.823108\n",
      "[LightGBM] [Info] Start training from score -12.823108\n",
      "[LightGBM] [Info] Start training from score -34.538776\n",
      "[LightGBM] [Info] Start training from score -8.972960\n",
      "[LightGBM] [Info] Start training from score -8.002826\n",
      "[LightGBM] [Info] Start training from score -7.334170\n",
      "[LightGBM] [Info] Start training from score -7.146354\n",
      "[LightGBM] [Info] Start training from score -7.641324\n",
      "[LightGBM] [Info] Start training from score -6.248032\n",
      "[LightGBM] [Info] Start training from score -7.570834\n",
      "[LightGBM] [Info] Start training from score -8.269231\n",
      "[LightGBM] [Info] Start training from score -8.728763\n",
      "[LightGBM] [Info] Start training from score -7.925268\n",
      "[LightGBM] [Info] Start training from score -7.675613\n",
      "[LightGBM] [Info] Start training from score -8.648721\n",
      "[LightGBM] [Info] Start training from score -10.115058\n",
      "[LightGBM] [Info] Start training from score -11.724496\n",
      "[LightGBM] [Info] Start training from score -12.823108\n",
      "[LightGBM] [Info] Start training from score -12.129961\n",
      "[LightGBM] [Info] Start training from score -12.129961\n",
      "[LightGBM] [Info] Start training from score -9.296747\n",
      "[LightGBM] [Info] Start training from score -8.248397\n",
      "[LightGBM] [Info] Start training from score -7.717162\n",
      "[LightGBM] [Info] Start training from score -7.054787\n",
      "[LightGBM] [Info] Start training from score -5.410344\n",
      "[LightGBM] [Info] Start training from score -6.722789\n",
      "[LightGBM] [Info] Start training from score -7.832675\n",
      "[LightGBM] [Info] Start training from score -8.301319\n",
      "[LightGBM] [Info] Start training from score -8.380457\n",
      "[LightGBM] [Info] Start training from score -7.350837\n",
      "[LightGBM] [Info] Start training from score -7.217306\n",
      "[LightGBM] [Info] Start training from score -7.895854\n",
      "[LightGBM] [Info] Start training from score -7.681444\n",
      "[LightGBM] [Info] Start training from score -9.645054\n",
      "[LightGBM] [Info] Start training from score -10.743666\n",
      "[LightGBM] [Info] Start training from score -6.208382\n",
      "[LightGBM] [Info] Start training from score -5.714864\n",
      "[LightGBM] [Info] Start training from score -5.326455\n",
      "[LightGBM] [Info] Start training from score -4.199575\n",
      "[LightGBM] [Info] Start training from score -4.967563\n",
      "[LightGBM] [Info] Start training from score -6.250825\n",
      "[LightGBM] [Info] Start training from score -7.635722\n",
      "[LightGBM] [Info] Start training from score -8.648721\n",
      "[LightGBM] [Info] Start training from score -8.159669\n",
      "[LightGBM] [Info] Start training from score -7.274032\n",
      "[LightGBM] [Info] Start training from score -7.874348\n",
      "[LightGBM] [Info] Start training from score -8.269231\n",
      "[LightGBM] [Info] Start training from score -8.492375\n",
      "[LightGBM] [Info] Start training from score -12.823108\n",
      "[LightGBM] [Info] Start training from score -12.823108\n",
      "[LightGBM] [Info] Start training from score -12.823108\n",
      "[LightGBM] [Info] Start training from score -12.823108\n",
      "[LightGBM] [Info] Start training from score -12.823108\n",
      "[LightGBM] [Info] Start training from score -6.147285\n",
      "[LightGBM] [Info] Start training from score -5.821862\n",
      "[LightGBM] [Info] Start training from score -5.337055\n",
      "[LightGBM] [Info] Start training from score -3.458160\n",
      "[LightGBM] [Info] Start training from score -4.182105\n",
      "[LightGBM] [Info] Start training from score -4.381285\n",
      "[LightGBM] [Info] Start training from score -6.356963\n",
      "[LightGBM] [Info] Start training from score -5.702664\n",
      "[LightGBM] [Info] Start training from score -5.826426\n",
      "[LightGBM] [Info] Start training from score -6.488054\n",
      "[LightGBM] [Info] Start training from score -7.635722\n",
      "[LightGBM] [Info] Start training from score -7.258588\n",
      "[LightGBM] [Info] Start training from score -7.565613\n",
      "[LightGBM] [Info] Start training from score -11.436814\n",
      "[LightGBM] [Info] Start training from score -12.129961\n",
      "[LightGBM] [Info] Start training from score -12.823108\n",
      "[LightGBM] [Info] Start training from score -34.538776\n",
      "[LightGBM] [Info] Start training from score -6.816755\n",
      "[LightGBM] [Info] Start training from score -5.313773\n",
      "[LightGBM] [Info] Start training from score -4.589339\n",
      "[LightGBM] [Info] Start training from score -4.011754\n",
      "[LightGBM] [Info] Start training from score -3.784387\n",
      "[LightGBM] [Info] Start training from score -4.514170\n",
      "[LightGBM] [Info] Start training from score -3.986443\n",
      "[LightGBM] [Info] Start training from score -6.711641\n",
      "[LightGBM] [Info] Start training from score -6.211067\n",
      "[LightGBM] [Info] Start training from score -7.017973\n",
      "[LightGBM] [Info] Start training from score -8.069518\n",
      "[LightGBM] [Info] Start training from score -8.027317\n",
      "[LightGBM] [Info] Start training from score -7.664053\n",
      "[LightGBM] [Info] Start training from score -12.823108\n",
      "[LightGBM] [Info] Start training from score -12.129961\n",
      "[LightGBM] [Info] Start training from score -34.538776\n",
      "[LightGBM] [Info] Start training from score -12.823108\n",
      "[LightGBM] [Info] Start training from score -12.823108\n",
      "[LightGBM] [Info] Start training from score -11.724496\n",
      "[LightGBM] [Info] Start training from score -4.073375\n",
      "[LightGBM] [Info] Start training from score -3.415475\n",
      "[LightGBM] [Info] Start training from score -3.211110\n",
      "[LightGBM] [Info] Start training from score -3.570475\n",
      "[LightGBM] [Info] Start training from score -4.342994\n",
      "[LightGBM] [Info] Start training from score -4.461633\n",
      "[LightGBM] [Info] Start training from score -5.244962\n",
      "[LightGBM] [Info] Start training from score -5.069484\n",
      "[LightGBM] [Info] Start training from score -5.536232\n",
      "[LightGBM] [Info] Start training from score -5.547243\n",
      "[LightGBM] [Info] Start training from score -6.123608\n",
      "[LightGBM] [Info] Start training from score -6.906906\n",
      "[LightGBM] [Info] Start training from score -7.669816\n",
      "[LightGBM] [Info] Start training from score -12.823108\n",
      "[LightGBM] [Info] Start training from score -12.823108\n",
      "[LightGBM] [Info] Start training from score -12.823108\n",
      "[LightGBM] [Info] Start training from score -12.129961\n",
      "[LightGBM] [Info] Start training from score -12.823108\n",
      "[LightGBM] [Info] Start training from score -12.823108\n",
      "[LightGBM] [Info] Start training from score -11.031348\n",
      "[LightGBM] [Info] Start training from score -4.177522\n",
      "[LightGBM] [Info] Start training from score -2.157414\n",
      "[LightGBM] [Info] Start training from score -2.176898\n",
      "[LightGBM] [Info] Start training from score -2.876274\n",
      "[LightGBM] [Info] Start training from score -3.621001\n",
      "[LightGBM] [Info] Start training from score -4.499014\n",
      "[LightGBM] [Info] Start training from score -5.230238\n",
      "[LightGBM] [Info] Start training from score -6.059223\n",
      "[LightGBM] [Info] Start training from score -7.754204\n",
      "[LightGBM] [Info] Start training from score -7.705114\n",
      "[LightGBM] [Info] Start training from score -8.589001\n",
      "[LightGBM] [Info] Start training from score -8.951907\n",
      "[LightGBM] [Info] Start training from score -12.823108\n",
      "[LightGBM] [Info] Start training from score -12.823108\n",
      "[LightGBM] [Info] Start training from score -12.129961\n",
      "[LightGBM] [Info] Start training from score -34.538776\n",
      "[LightGBM] [Info] Start training from score -11.436814\n",
      "[LightGBM] [Info] Start training from score -11.724496\n",
      "[LightGBM] [Info] Start training from score -34.538776\n",
      "[LightGBM] [Info] Start training from score -12.823108\n",
      "[LightGBM] [Info] Start training from score -34.538776\n",
      "[LightGBM] [Info] Start training from score -12.823108\n",
      "[LightGBM] [Info] Start training from score -12.823108\n",
      "[LightGBM] [Info] Start training from score -10.338201\n",
      "[LightGBM] [Info] Start training from score -11.213670\n"
     ]
    },
    {
     "name": "stdout",
     "output_type": "stream",
     "text": [
      "[LightGBM] [Info] Start training from score -6.391777\n",
      "[LightGBM] [Info] Start training from score -3.722694\n",
      "[LightGBM] [Info] Start training from score -3.211913\n",
      "[LightGBM] [Info] Start training from score -3.576821\n",
      "[LightGBM] [Info] Start training from score -3.721801\n",
      "[LightGBM] [Info] Start training from score -3.458588\n",
      "[LightGBM] [Info] Start training from score -6.249428\n",
      "[LightGBM] [Info] Start training from score -8.380457\n",
      "[LightGBM] [Info] Start training from score -9.565011\n",
      "[LightGBM] [Info] Start training from score -11.436814\n",
      "[LightGBM] [Info] Start training from score -12.129961\n",
      "[LightGBM] [Info] Start training from score -34.538776\n",
      "[LightGBM] [Info] Start training from score -12.129961\n",
      "[LightGBM] [Info] Start training from score -12.823108\n",
      "[LightGBM] [Info] Start training from score -11.436814\n",
      "[LightGBM] [Info] Start training from score -11.724496\n",
      "[LightGBM] [Info] Start training from score -12.129961\n",
      "[LightGBM] [Info] Start training from score -12.823108\n",
      "[LightGBM] [Info] Start training from score -12.823108\n",
      "[LightGBM] [Info] Start training from score -12.129961\n",
      "[LightGBM] [Info] Start training from score -10.425213\n",
      "[LightGBM] [Info] Start training from score -9.932736\n",
      "[LightGBM] [Info] Start training from score -11.436814\n",
      "[LightGBM] [Info] Start training from score -12.129961\n",
      "[LightGBM] [Info] Start training from score -7.048556\n",
      "[LightGBM] [Info] Start training from score -3.944193\n",
      "[LightGBM] [Info] Start training from score -3.953147\n",
      "[LightGBM] [Info] Start training from score -7.766862\n",
      "[LightGBM] [Info] Start training from score -7.539904\n",
      "[LightGBM] [Info] Start training from score -8.911085\n",
      "[LightGBM] [Info] Start training from score -12.823108\n",
      "[LightGBM] [Info] Start training from score -7.799227\n",
      "[LightGBM] [Info] Start training from score -8.797756\n",
      "[LightGBM] [Info] Start training from score -12.823108\n",
      "[LightGBM] [Info] Start training from score -34.538776\n",
      "[LightGBM] [Info] Start training from score -11.724496\n",
      "[LightGBM] [Info] Start training from score -12.129961\n",
      "[LightGBM] [Info] Start training from score -12.129961\n",
      "[LightGBM] [Info] Start training from score -11.724496\n",
      "[LightGBM] [Info] Start training from score -10.743666\n",
      "[LightGBM] [Info] Start training from score -10.338201\n",
      "[LightGBM] [Info] Start training from score -10.625883\n",
      "[LightGBM] [Info] Start training from score -11.724496\n",
      "[LightGBM] [Info] Start training from score -11.213670\n",
      "[LightGBM] [Info] Start training from score -12.129961\n",
      "[LightGBM] [Info] Start training from score -10.258159\n",
      "[LightGBM] [Info] Start training from score -10.338201\n",
      "[LightGBM] [Info] Start training from score -12.823108\n",
      "[LightGBM] [Info] Start training from score -12.129961\n",
      "[LightGBM] [Info] Start training from score -12.823108\n",
      "[LightGBM] [Info] Start training from score -11.724496\n",
      "[LightGBM] [Info] Start training from score -12.823108\n",
      "[LightGBM] [Info] Start training from score -12.823108\n",
      "[LightGBM] [Info] Start training from score -11.213670\n",
      "[LightGBM] [Info] Start training from score -11.724496\n",
      "[LightGBM] [Info] Start training from score -10.877198\n",
      "[LightGBM] [Info] Start training from score -11.436814\n",
      "[LightGBM] [Info] Start training from score -12.129961\n",
      "[LightGBM] [Info] Start training from score -11.436814\n",
      "[LightGBM] [Info] Start training from score -12.823108\n",
      "[LightGBM] [Info] Start training from score -12.129961\n",
      "[LightGBM] [Info] Start training from score -12.823108\n",
      "[LightGBM] [Info] Start training from score -11.213670\n",
      "[LightGBM] [Info] Start training from score -10.520523\n",
      "[LightGBM] [Info] Start training from score -10.520523\n",
      "[LightGBM] [Info] Start training from score -34.538776\n",
      "[LightGBM] [Info] Start training from score -34.538776\n",
      "[LightGBM] [Info] Start training from score -12.129961\n",
      "[LightGBM] [Info] Start training from score -12.823108\n",
      "[LightGBM] [Info] Start training from score -11.031348\n",
      "[LightGBM] [Info] Start training from score -11.213670\n",
      "[LightGBM] [Info] Start training from score -11.724496\n",
      "[LightGBM] [Info] Start training from score -12.823108\n",
      "[LightGBM] [Info] Start training from score -12.823108\n",
      "[LightGBM] [Info] Start training from score -12.129961\n",
      "[LightGBM] [Info] Start training from score -34.538776\n",
      "[LightGBM] [Info] Start training from score -12.823108\n",
      "[LightGBM] [Info] Start training from score -12.823108\n",
      "[LightGBM] [Info] Start training from score -12.129961\n",
      "[LightGBM] [Info] Start training from score -12.129961\n",
      "[LightGBM] [Info] Start training from score -12.823108\n",
      "[LightGBM] [Info] Start training from score -11.213670\n",
      "[LightGBM] [Info] Start training from score -10.877198\n",
      "[LightGBM] [Info] Start training from score -10.625883\n",
      "[LightGBM] [Info] Start training from score -11.436814\n",
      "[LightGBM] [Info] Start training from score -11.724496\n",
      "[LightGBM] [Info] Start training from score -12.129961\n",
      "[LightGBM] [Info] Start training from score -12.823108\n",
      "[LightGBM] [Info] Start training from score -11.724496\n",
      "[LightGBM] [Info] Start training from score -11.213670\n",
      "[LightGBM] [Info] Start training from score -34.538776\n",
      "[LightGBM] [Info] Start training from score -11.436814\n",
      "[LightGBM] [Info] Start training from score -10.258159\n",
      "[LightGBM] [Info] Start training from score -10.625883\n",
      "[LightGBM] [Info] Start training from score -11.436814\n",
      "[LightGBM] [Info] Start training from score -12.129961\n",
      "[LightGBM] [Info] Start training from score -11.213670\n",
      "[LightGBM] [Info] Start training from score -11.724496\n",
      "[LightGBM] [Info] Start training from score -12.823108\n",
      "[LightGBM] [Info] Start training from score -11.031348\n",
      "[LightGBM] [Info] Start training from score -11.724496\n",
      "[LightGBM] [Info] Start training from score -12.823108\n",
      "[LightGBM] [Info] Start training from score -12.823108\n",
      "[LightGBM] [Info] Start training from score -34.538776\n",
      "[LightGBM] [Info] Start training from score -12.129961\n",
      "[LightGBM] [Info] Start training from score -11.031348\n",
      "[LightGBM] [Info] Start training from score -10.625883\n",
      "[LightGBM] [Info] Start training from score -10.520523\n",
      "[LightGBM] [Info] Start training from score -11.213670\n",
      "[LightGBM] [Info] Start training from score -12.823108\n",
      "[LightGBM] [Info] Start training from score -11.724496\n",
      "[LightGBM] [Info] Start training from score -12.129961\n",
      "[LightGBM] [Info] Start training from score -12.823108\n",
      "[LightGBM] [Info] Start training from score -12.823108\n",
      "[LightGBM] [Info] Start training from score -34.538776\n",
      "[LightGBM] [Info] Start training from score -12.823108\n",
      "[LightGBM] [Info] Start training from score -12.823108\n",
      "[LightGBM] [Info] Start training from score -11.436814\n",
      "[LightGBM] [Info] Start training from score -34.538776\n",
      "[LightGBM] [Info] Start training from score -12.823108\n",
      "[LightGBM] [Info] Start training from score -12.823108\n",
      "[LightGBM] [Info] Start training from score -12.823108\n",
      "[LightGBM] [Info] Start training from score -12.823108\n",
      "[LightGBM] [Info] Start training from score -34.538776\n",
      "[LightGBM] [Info] Start training from score -11.031348\n",
      "[LightGBM] [Info] Start training from score -11.436814\n",
      "[LightGBM] [Info] Start training from score -12.823108\n",
      "[LightGBM] [Info] Start training from score -12.129961\n",
      "[LightGBM] [Info] Start training from score -12.129961\n",
      "[LightGBM] [Info] Start training from score -12.129961\n",
      "[LightGBM] [Info] Start training from score -12.129961\n",
      "[LightGBM] [Info] Start training from score -11.213670\n",
      "[LightGBM] [Info] Start training from score -34.538776\n",
      "[LightGBM] [Info] Start training from score -12.823108\n",
      "[LightGBM] [Info] Start training from score -12.823108\n",
      "[LightGBM] [Info] Start training from score -12.823108\n",
      "[LightGBM] [Info] Start training from score -12.823108\n",
      "[LightGBM] [Info] Start training from score -11.724496\n",
      "[LightGBM] [Info] Start training from score -12.823108\n",
      "[LightGBM] [Info] Start training from score -34.538776\n",
      "[LightGBM] [Info] Start training from score -12.823108\n",
      "[LightGBM] [Info] Start training from score -12.823108\n",
      "[LightGBM] [Info] Start training from score -11.436814\n",
      "[LightGBM] [Info] Start training from score -34.538776\n",
      "[LightGBM] [Info] Start training from score -12.823108\n",
      "[LightGBM] [Info] Start training from score -12.823108\n",
      "[LightGBM] [Info] Start training from score -12.823108\n",
      "[LightGBM] [Info] Start training from score -12.823108\n",
      "[LightGBM] [Info] Start training from score -12.823108\n",
      "[LightGBM] [Info] Start training from score -12.823108\n",
      "[LightGBM] [Info] Start training from score -34.538776\n",
      "[LightGBM] [Info] Start training from score -12.823108\n",
      "[LightGBM] [Info] Start training from score -12.823108\n",
      "[LightGBM] [Info] Start training from score -12.823108\n",
      "[LightGBM] [Info] Start training from score -12.823108\n",
      "[LightGBM] [Info] Start training from score -34.538776\n",
      "[LightGBM] [Info] Start training from score -12.823108\n",
      "[LightGBM] [Info] Start training from score -12.823108\n",
      "[LightGBM] [Info] Start training from score -11.031348\n",
      "[LightGBM] [Info] Start training from score -12.823108\n",
      "[LightGBM] [Info] Start training from score -12.823108\n",
      "[LightGBM] [Info] Start training from score -12.823108\n",
      "[LightGBM] [Info] Start training from score -12.823108\n",
      "[LightGBM] [Info] Start training from score -12.823108\n",
      "[LightGBM] [Info] Start training from score -12.823108\n"
     ]
    },
    {
     "name": "stdout",
     "output_type": "stream",
     "text": [
      "[LightGBM] [Warning] No further splits with positive gain, best gain: -inf\n",
      "[LightGBM] [Warning] No further splits with positive gain, best gain: -inf\n",
      "[LightGBM] [Warning] No further splits with positive gain, best gain: -inf\n",
      "[LightGBM] [Warning] No further splits with positive gain, best gain: -inf\n",
      "[LightGBM] [Warning] No further splits with positive gain, best gain: -inf\n",
      "[LightGBM] [Warning] No further splits with positive gain, best gain: -inf\n",
      "[LightGBM] [Warning] No further splits with positive gain, best gain: -inf\n",
      "[LightGBM] [Warning] No further splits with positive gain, best gain: -inf\n",
      "[LightGBM] [Warning] No further splits with positive gain, best gain: -inf\n",
      "[LightGBM] [Warning] No further splits with positive gain, best gain: -inf\n",
      "[LightGBM] [Warning] No further splits with positive gain, best gain: -inf\n",
      "[LightGBM] [Warning] No further splits with positive gain, best gain: -inf\n",
      "[LightGBM] [Warning] No further splits with positive gain, best gain: -inf\n",
      "[LightGBM] [Warning] No further splits with positive gain, best gain: -inf\n",
      "[LightGBM] [Warning] No further splits with positive gain, best gain: -inf\n",
      "[LightGBM] [Warning] No further splits with positive gain, best gain: -inf\n",
      "[LightGBM] [Warning] No further splits with positive gain, best gain: -inf\n",
      "[LightGBM] [Warning] No further splits with positive gain, best gain: -inf\n",
      "[LightGBM] [Warning] No further splits with positive gain, best gain: -inf\n",
      "[LightGBM] [Warning] No further splits with positive gain, best gain: -inf\n",
      "[LightGBM] [Warning] No further splits with positive gain, best gain: -inf\n",
      "[LightGBM] [Warning] No further splits with positive gain, best gain: -inf\n",
      "[LightGBM] [Warning] No further splits with positive gain, best gain: -inf\n",
      "[LightGBM] [Warning] No further splits with positive gain, best gain: -inf\n",
      "[LightGBM] [Warning] No further splits with positive gain, best gain: -inf\n",
      "[LightGBM] [Warning] No further splits with positive gain, best gain: -inf\n",
      "[LightGBM] [Warning] No further splits with positive gain, best gain: -inf\n",
      "[LightGBM] [Warning] No further splits with positive gain, best gain: -inf\n",
      "[LightGBM] [Warning] No further splits with positive gain, best gain: -inf\n",
      "[LightGBM] [Warning] No further splits with positive gain, best gain: -inf\n",
      "[LightGBM] [Warning] No further splits with positive gain, best gain: -inf\n",
      "[LightGBM] [Warning] No further splits with positive gain, best gain: -inf\n",
      "[LightGBM] [Warning] No further splits with positive gain, best gain: -inf\n",
      "[LightGBM] [Warning] No further splits with positive gain, best gain: -inf\n",
      "[LightGBM] [Warning] No further splits with positive gain, best gain: -inf\n",
      "[LightGBM] [Warning] No further splits with positive gain, best gain: -inf\n",
      "[LightGBM] [Warning] No further splits with positive gain, best gain: -inf\n",
      "[LightGBM] [Warning] No further splits with positive gain, best gain: -inf\n",
      "[LightGBM] [Warning] No further splits with positive gain, best gain: -inf\n",
      "[LightGBM] [Warning] No further splits with positive gain, best gain: -inf\n",
      "[LightGBM] [Warning] No further splits with positive gain, best gain: -inf\n",
      "[LightGBM] [Warning] No further splits with positive gain, best gain: -inf\n",
      "[LightGBM] [Warning] No further splits with positive gain, best gain: -inf\n",
      "[LightGBM] [Warning] No further splits with positive gain, best gain: -inf\n",
      "[LightGBM] [Warning] No further splits with positive gain, best gain: -inf\n",
      "[LightGBM] [Warning] No further splits with positive gain, best gain: -inf\n",
      "[LightGBM] [Warning] No further splits with positive gain, best gain: -inf\n",
      "[LightGBM] [Warning] No further splits with positive gain, best gain: -inf\n",
      "[LightGBM] [Warning] No further splits with positive gain, best gain: -inf\n",
      "[LightGBM] [Warning] No further splits with positive gain, best gain: -inf\n",
      "[LightGBM] [Warning] No further splits with positive gain, best gain: -inf\n",
      "[LightGBM] [Warning] No further splits with positive gain, best gain: -inf\n",
      "[LightGBM] [Warning] No further splits with positive gain, best gain: -inf\n",
      "[LightGBM] [Warning] No further splits with positive gain, best gain: -inf\n",
      "[LightGBM] [Warning] No further splits with positive gain, best gain: -inf\n",
      "[LightGBM] [Warning] No further splits with positive gain, best gain: -inf\n",
      "[LightGBM] [Warning] No further splits with positive gain, best gain: -inf\n",
      "[LightGBM] [Warning] No further splits with positive gain, best gain: -inf\n",
      "[LightGBM] [Warning] No further splits with positive gain, best gain: -inf\n",
      "[LightGBM] [Warning] No further splits with positive gain, best gain: -inf\n",
      "[LightGBM] [Warning] No further splits with positive gain, best gain: -inf\n",
      "[LightGBM] [Warning] No further splits with positive gain, best gain: -inf\n",
      "[LightGBM] [Warning] No further splits with positive gain, best gain: -inf\n",
      "[LightGBM] [Warning] No further splits with positive gain, best gain: -inf\n",
      "[LightGBM] [Warning] No further splits with positive gain, best gain: -inf\n",
      "[LightGBM] [Warning] No further splits with positive gain, best gain: -inf\n",
      "[LightGBM] [Warning] No further splits with positive gain, best gain: -inf\n",
      "[LightGBM] [Warning] No further splits with positive gain, best gain: -inf\n",
      "[LightGBM] [Warning] No further splits with positive gain, best gain: -inf\n",
      "[LightGBM] [Warning] No further splits with positive gain, best gain: -inf\n",
      "[LightGBM] [Warning] No further splits with positive gain, best gain: -inf\n",
      "[LightGBM] [Warning] No further splits with positive gain, best gain: -inf\n",
      "[LightGBM] [Warning] No further splits with positive gain, best gain: -inf\n",
      "[LightGBM] [Warning] No further splits with positive gain, best gain: -inf\n",
      "[LightGBM] [Warning] No further splits with positive gain, best gain: -inf\n",
      "[LightGBM] [Warning] No further splits with positive gain, best gain: -inf\n",
      "[LightGBM] [Warning] No further splits with positive gain, best gain: -inf\n",
      "[LightGBM] [Warning] No further splits with positive gain, best gain: -inf\n",
      "[LightGBM] [Warning] No further splits with positive gain, best gain: -inf\n",
      "[LightGBM] [Warning] No further splits with positive gain, best gain: -inf\n",
      "[LightGBM] [Warning] No further splits with positive gain, best gain: -inf\n",
      "[LightGBM] [Warning] No further splits with positive gain, best gain: -inf\n",
      "[LightGBM] [Warning] No further splits with positive gain, best gain: -inf\n",
      "[LightGBM] [Warning] No further splits with positive gain, best gain: -inf\n",
      "[LightGBM] [Warning] No further splits with positive gain, best gain: -inf\n",
      "[LightGBM] [Warning] No further splits with positive gain, best gain: -inf\n",
      "[LightGBM] [Warning] No further splits with positive gain, best gain: -inf\n",
      "[LightGBM] [Warning] No further splits with positive gain, best gain: -inf\n",
      "[LightGBM] [Warning] No further splits with positive gain, best gain: -inf\n",
      "[LightGBM] [Warning] No further splits with positive gain, best gain: -inf\n",
      "[LightGBM] [Warning] No further splits with positive gain, best gain: -inf\n",
      "[LightGBM] [Warning] No further splits with positive gain, best gain: -inf\n",
      "[LightGBM] [Warning] No further splits with positive gain, best gain: -inf\n",
      "[LightGBM] [Warning] No further splits with positive gain, best gain: -inf\n",
      "[LightGBM] [Warning] No further splits with positive gain, best gain: -inf\n",
      "[LightGBM] [Warning] No further splits with positive gain, best gain: -inf\n",
      "[LightGBM] [Warning] No further splits with positive gain, best gain: -inf\n",
      "[LightGBM] [Warning] No further splits with positive gain, best gain: -inf\n",
      "[LightGBM] [Warning] No further splits with positive gain, best gain: -inf\n",
      "[LightGBM] [Warning] No further splits with positive gain, best gain: -inf\n",
      "[LightGBM] [Warning] No further splits with positive gain, best gain: -inf\n",
      "[LightGBM] [Warning] No further splits with positive gain, best gain: -inf\n",
      "[LightGBM] [Warning] No further splits with positive gain, best gain: -inf\n",
      "[LightGBM] [Warning] No further splits with positive gain, best gain: -inf\n",
      "[LightGBM] [Warning] No further splits with positive gain, best gain: -inf\n",
      "[LightGBM] [Warning] No further splits with positive gain, best gain: -inf\n",
      "[LightGBM] [Warning] No further splits with positive gain, best gain: -inf\n",
      "[LightGBM] [Warning] No further splits with positive gain, best gain: -inf\n",
      "[LightGBM] [Warning] No further splits with positive gain, best gain: -inf\n",
      "[LightGBM] [Warning] No further splits with positive gain, best gain: -inf\n",
      "[LightGBM] [Warning] No further splits with positive gain, best gain: -inf\n",
      "[LightGBM] [Warning] No further splits with positive gain, best gain: -inf\n",
      "[LightGBM] [Warning] No further splits with positive gain, best gain: -inf\n",
      "[LightGBM] [Warning] No further splits with positive gain, best gain: -inf\n",
      "[LightGBM] [Warning] No further splits with positive gain, best gain: -inf\n",
      "[LightGBM] [Warning] No further splits with positive gain, best gain: -inf\n",
      "[LightGBM] [Warning] No further splits with positive gain, best gain: -inf\n",
      "[LightGBM] [Warning] No further splits with positive gain, best gain: -inf\n",
      "[LightGBM] [Warning] No further splits with positive gain, best gain: -inf\n",
      "[LightGBM] [Warning] No further splits with positive gain, best gain: -inf\n",
      "[LightGBM] [Warning] No further splits with positive gain, best gain: -inf\n",
      "[LightGBM] [Warning] No further splits with positive gain, best gain: -inf\n",
      "[LightGBM] [Warning] No further splits with positive gain, best gain: -inf\n"
     ]
    },
    {
     "name": "stdout",
     "output_type": "stream",
     "text": [
      "[LightGBM] [Warning] No further splits with positive gain, best gain: -inf\n",
      "[LightGBM] [Warning] No further splits with positive gain, best gain: -inf\n",
      "[LightGBM] [Warning] No further splits with positive gain, best gain: -inf\n",
      "[LightGBM] [Warning] No further splits with positive gain, best gain: -inf\n",
      "[LightGBM] [Warning] No further splits with positive gain, best gain: -inf\n",
      "[LightGBM] [Warning] No further splits with positive gain, best gain: -inf\n",
      "[LightGBM] [Warning] No further splits with positive gain, best gain: -inf\n",
      "[LightGBM] [Warning] No further splits with positive gain, best gain: -inf\n",
      "[LightGBM] [Warning] No further splits with positive gain, best gain: -inf\n",
      "[LightGBM] [Warning] No further splits with positive gain, best gain: -inf\n",
      "[LightGBM] [Warning] No further splits with positive gain, best gain: -inf\n",
      "[LightGBM] [Warning] No further splits with positive gain, best gain: -inf\n",
      "[LightGBM] [Warning] No further splits with positive gain, best gain: -inf\n",
      "[LightGBM] [Warning] No further splits with positive gain, best gain: -inf\n",
      "[LightGBM] [Warning] No further splits with positive gain, best gain: -inf\n",
      "[LightGBM] [Warning] No further splits with positive gain, best gain: -inf\n",
      "[LightGBM] [Warning] No further splits with positive gain, best gain: -inf\n",
      "[LightGBM] [Warning] No further splits with positive gain, best gain: -inf\n",
      "[LightGBM] [Warning] No further splits with positive gain, best gain: -inf\n",
      "[LightGBM] [Warning] No further splits with positive gain, best gain: -inf\n",
      "[LightGBM] [Warning] No further splits with positive gain, best gain: -inf\n",
      "[LightGBM] [Warning] No further splits with positive gain, best gain: -inf\n",
      "[LightGBM] [Warning] No further splits with positive gain, best gain: -inf\n",
      "[LightGBM] [Warning] No further splits with positive gain, best gain: -inf\n",
      "[LightGBM] [Warning] No further splits with positive gain, best gain: -inf\n",
      "[LightGBM] [Warning] No further splits with positive gain, best gain: -inf\n",
      "[LightGBM] [Warning] No further splits with positive gain, best gain: -inf\n",
      "[LightGBM] [Warning] No further splits with positive gain, best gain: -inf\n",
      "[LightGBM] [Warning] No further splits with positive gain, best gain: -inf\n",
      "[LightGBM] [Warning] No further splits with positive gain, best gain: -inf\n",
      "[LightGBM] [Warning] No further splits with positive gain, best gain: -inf\n",
      "[LightGBM] [Warning] No further splits with positive gain, best gain: -inf\n",
      "[LightGBM] [Warning] No further splits with positive gain, best gain: -inf\n",
      "[LightGBM] [Warning] No further splits with positive gain, best gain: -inf\n",
      "[LightGBM] [Warning] No further splits with positive gain, best gain: -inf\n",
      "[LightGBM] [Warning] No further splits with positive gain, best gain: -inf\n",
      "[LightGBM] [Warning] No further splits with positive gain, best gain: -inf\n",
      "[LightGBM] [Warning] No further splits with positive gain, best gain: -inf\n",
      "[LightGBM] [Warning] No further splits with positive gain, best gain: -inf\n",
      "[LightGBM] [Warning] No further splits with positive gain, best gain: -inf\n",
      "[LightGBM] [Warning] No further splits with positive gain, best gain: -inf\n",
      "[LightGBM] [Warning] No further splits with positive gain, best gain: -inf\n",
      "[LightGBM] [Warning] No further splits with positive gain, best gain: -inf\n",
      "[LightGBM] [Warning] No further splits with positive gain, best gain: -inf\n",
      "[LightGBM] [Warning] No further splits with positive gain, best gain: -inf\n",
      "[LightGBM] [Warning] No further splits with positive gain, best gain: -inf\n",
      "[LightGBM] [Warning] No further splits with positive gain, best gain: -inf\n",
      "[LightGBM] [Warning] No further splits with positive gain, best gain: -inf\n",
      "[LightGBM] [Warning] No further splits with positive gain, best gain: -inf\n",
      "[LightGBM] [Warning] No further splits with positive gain, best gain: -inf\n",
      "[LightGBM] [Warning] No further splits with positive gain, best gain: -inf\n",
      "[LightGBM] [Warning] No further splits with positive gain, best gain: -inf\n",
      "[LightGBM] [Warning] No further splits with positive gain, best gain: -inf\n",
      "[LightGBM] [Warning] No further splits with positive gain, best gain: -inf\n",
      "[LightGBM] [Warning] No further splits with positive gain, best gain: -inf\n",
      "[LightGBM] [Warning] No further splits with positive gain, best gain: -inf\n",
      "[LightGBM] [Warning] No further splits with positive gain, best gain: -inf\n",
      "[LightGBM] [Warning] No further splits with positive gain, best gain: -inf\n",
      "[LightGBM] [Warning] No further splits with positive gain, best gain: -inf\n",
      "[LightGBM] [Warning] No further splits with positive gain, best gain: -inf\n",
      "[LightGBM] [Warning] No further splits with positive gain, best gain: -inf\n",
      "[LightGBM] [Warning] No further splits with positive gain, best gain: -inf\n",
      "[LightGBM] [Warning] No further splits with positive gain, best gain: -inf\n",
      "[LightGBM] [Warning] No further splits with positive gain, best gain: -inf\n",
      "[LightGBM] [Warning] No further splits with positive gain, best gain: -inf\n",
      "[LightGBM] [Warning] No further splits with positive gain, best gain: -inf\n",
      "[LightGBM] [Warning] No further splits with positive gain, best gain: -inf\n",
      "[LightGBM] [Warning] No further splits with positive gain, best gain: -inf\n",
      "[LightGBM] [Warning] No further splits with positive gain, best gain: -inf\n",
      "[LightGBM] [Warning] No further splits with positive gain, best gain: -inf\n",
      "[LightGBM] [Warning] No further splits with positive gain, best gain: -inf\n",
      "[LightGBM] [Warning] No further splits with positive gain, best gain: -inf\n",
      "[LightGBM] [Warning] No further splits with positive gain, best gain: -inf\n",
      "[LightGBM] [Warning] No further splits with positive gain, best gain: -inf\n",
      "[LightGBM] [Warning] No further splits with positive gain, best gain: -inf\n",
      "[LightGBM] [Warning] No further splits with positive gain, best gain: -inf\n",
      "[LightGBM] [Warning] No further splits with positive gain, best gain: -inf\n",
      "[LightGBM] [Warning] No further splits with positive gain, best gain: -inf\n",
      "[LightGBM] [Warning] No further splits with positive gain, best gain: -inf\n",
      "[LightGBM] [Warning] No further splits with positive gain, best gain: -inf\n",
      "[LightGBM] [Warning] No further splits with positive gain, best gain: -inf\n",
      "[LightGBM] [Warning] No further splits with positive gain, best gain: -inf\n",
      "[LightGBM] [Warning] No further splits with positive gain, best gain: -inf\n",
      "[LightGBM] [Warning] No further splits with positive gain, best gain: -inf\n",
      "[LightGBM] [Warning] No further splits with positive gain, best gain: -inf\n",
      "[LightGBM] [Warning] No further splits with positive gain, best gain: -inf\n",
      "[LightGBM] [Warning] No further splits with positive gain, best gain: -inf\n",
      "[LightGBM] [Warning] No further splits with positive gain, best gain: -inf\n",
      "[LightGBM] [Warning] No further splits with positive gain, best gain: -inf\n",
      "[LightGBM] [Warning] No further splits with positive gain, best gain: -inf\n",
      "[LightGBM] [Warning] No further splits with positive gain, best gain: -inf\n",
      "[LightGBM] [Warning] No further splits with positive gain, best gain: -inf\n",
      "[LightGBM] [Warning] No further splits with positive gain, best gain: -inf\n",
      "[LightGBM] [Warning] No further splits with positive gain, best gain: -inf\n",
      "[LightGBM] [Warning] No further splits with positive gain, best gain: -inf\n",
      "[LightGBM] [Warning] No further splits with positive gain, best gain: -inf\n",
      "[LightGBM] [Warning] No further splits with positive gain, best gain: -inf\n",
      "[LightGBM] [Warning] No further splits with positive gain, best gain: -inf\n",
      "[LightGBM] [Warning] No further splits with positive gain, best gain: -inf\n",
      "[LightGBM] [Warning] No further splits with positive gain, best gain: -inf\n",
      "[LightGBM] [Warning] No further splits with positive gain, best gain: -inf\n",
      "[LightGBM] [Warning] No further splits with positive gain, best gain: -inf\n",
      "[LightGBM] [Warning] No further splits with positive gain, best gain: -inf\n",
      "[LightGBM] [Warning] No further splits with positive gain, best gain: -inf\n",
      "[LightGBM] [Warning] No further splits with positive gain, best gain: -inf\n",
      "[LightGBM] [Warning] No further splits with positive gain, best gain: -inf\n",
      "[LightGBM] [Warning] No further splits with positive gain, best gain: -inf\n",
      "[LightGBM] [Warning] No further splits with positive gain, best gain: -inf\n",
      "[LightGBM] [Warning] No further splits with positive gain, best gain: -inf\n",
      "[LightGBM] [Warning] No further splits with positive gain, best gain: -inf\n",
      "[LightGBM] [Warning] No further splits with positive gain, best gain: -inf\n",
      "[LightGBM] [Warning] No further splits with positive gain, best gain: -inf\n"
     ]
    },
    {
     "name": "stdout",
     "output_type": "stream",
     "text": [
      "[LightGBM] [Warning] No further splits with positive gain, best gain: -inf\n",
      "[LightGBM] [Warning] No further splits with positive gain, best gain: -inf\n",
      "[LightGBM] [Warning] No further splits with positive gain, best gain: -inf\n",
      "[LightGBM] [Warning] No further splits with positive gain, best gain: -inf\n",
      "[LightGBM] [Warning] No further splits with positive gain, best gain: -inf\n",
      "[LightGBM] [Warning] No further splits with positive gain, best gain: -inf\n",
      "[LightGBM] [Warning] No further splits with positive gain, best gain: -inf\n",
      "[LightGBM] [Warning] No further splits with positive gain, best gain: -inf\n",
      "[LightGBM] [Warning] No further splits with positive gain, best gain: -inf\n",
      "[LightGBM] [Warning] No further splits with positive gain, best gain: -inf\n",
      "[LightGBM] [Warning] No further splits with positive gain, best gain: -inf\n",
      "[LightGBM] [Warning] No further splits with positive gain, best gain: -inf\n",
      "[LightGBM] [Warning] No further splits with positive gain, best gain: -inf\n",
      "[LightGBM] [Warning] No further splits with positive gain, best gain: -inf\n",
      "[LightGBM] [Warning] No further splits with positive gain, best gain: -inf\n",
      "[LightGBM] [Warning] No further splits with positive gain, best gain: -inf\n",
      "[LightGBM] [Warning] No further splits with positive gain, best gain: -inf\n",
      "[LightGBM] [Warning] No further splits with positive gain, best gain: -inf\n",
      "[LightGBM] [Warning] No further splits with positive gain, best gain: -inf\n",
      "[LightGBM] [Warning] No further splits with positive gain, best gain: -inf\n",
      "[LightGBM] [Warning] No further splits with positive gain, best gain: -inf\n",
      "[LightGBM] [Warning] No further splits with positive gain, best gain: -inf\n",
      "[LightGBM] [Warning] No further splits with positive gain, best gain: -inf\n",
      "[LightGBM] [Warning] No further splits with positive gain, best gain: -inf\n",
      "[LightGBM] [Warning] No further splits with positive gain, best gain: -inf\n",
      "[LightGBM] [Warning] No further splits with positive gain, best gain: -inf\n",
      "[LightGBM] [Warning] No further splits with positive gain, best gain: -inf\n",
      "[LightGBM] [Warning] No further splits with positive gain, best gain: -inf\n",
      "[LightGBM] [Warning] No further splits with positive gain, best gain: -inf\n",
      "[LightGBM] [Warning] No further splits with positive gain, best gain: -inf\n",
      "[LightGBM] [Warning] No further splits with positive gain, best gain: -inf\n",
      "[LightGBM] [Warning] No further splits with positive gain, best gain: -inf\n",
      "[LightGBM] [Warning] No further splits with positive gain, best gain: -inf\n",
      "[LightGBM] [Warning] No further splits with positive gain, best gain: -inf\n",
      "[LightGBM] [Warning] No further splits with positive gain, best gain: -inf\n",
      "[LightGBM] [Warning] No further splits with positive gain, best gain: -inf\n",
      "[LightGBM] [Warning] No further splits with positive gain, best gain: -inf\n",
      "[LightGBM] [Warning] No further splits with positive gain, best gain: -inf\n",
      "[LightGBM] [Warning] No further splits with positive gain, best gain: -inf\n",
      "[LightGBM] [Warning] No further splits with positive gain, best gain: -inf\n",
      "[LightGBM] [Warning] No further splits with positive gain, best gain: -inf\n",
      "[LightGBM] [Warning] No further splits with positive gain, best gain: -inf\n",
      "[LightGBM] [Warning] No further splits with positive gain, best gain: -inf\n",
      "[LightGBM] [Warning] No further splits with positive gain, best gain: -inf\n",
      "[LightGBM] [Warning] No further splits with positive gain, best gain: -inf\n",
      "[LightGBM] [Warning] No further splits with positive gain, best gain: -inf\n",
      "[LightGBM] [Warning] No further splits with positive gain, best gain: -inf\n",
      "[LightGBM] [Warning] No further splits with positive gain, best gain: -inf\n",
      "[LightGBM] [Warning] No further splits with positive gain, best gain: -inf\n",
      "[LightGBM] [Warning] No further splits with positive gain, best gain: -inf\n",
      "[LightGBM] [Warning] No further splits with positive gain, best gain: -inf\n",
      "[LightGBM] [Warning] No further splits with positive gain, best gain: -inf\n",
      "[LightGBM] [Warning] No further splits with positive gain, best gain: -inf\n",
      "[LightGBM] [Warning] No further splits with positive gain, best gain: -inf\n",
      "[LightGBM] [Warning] No further splits with positive gain, best gain: -inf\n",
      "[LightGBM] [Warning] No further splits with positive gain, best gain: -inf\n",
      "[LightGBM] [Warning] No further splits with positive gain, best gain: -inf\n",
      "[LightGBM] [Warning] No further splits with positive gain, best gain: -inf\n",
      "[LightGBM] [Warning] No further splits with positive gain, best gain: -inf\n",
      "[LightGBM] [Warning] No further splits with positive gain, best gain: -inf\n",
      "[LightGBM] [Warning] No further splits with positive gain, best gain: -inf\n",
      "[LightGBM] [Warning] No further splits with positive gain, best gain: -inf\n",
      "[LightGBM] [Warning] No further splits with positive gain, best gain: -inf\n",
      "[LightGBM] [Warning] No further splits with positive gain, best gain: -inf\n",
      "[LightGBM] [Warning] No further splits with positive gain, best gain: -inf\n",
      "[LightGBM] [Warning] No further splits with positive gain, best gain: -inf\n",
      "[LightGBM] [Warning] No further splits with positive gain, best gain: -inf\n",
      "[LightGBM] [Warning] No further splits with positive gain, best gain: -inf\n",
      "[LightGBM] [Warning] No further splits with positive gain, best gain: -inf\n",
      "[LightGBM] [Warning] No further splits with positive gain, best gain: -inf\n",
      "[LightGBM] [Warning] No further splits with positive gain, best gain: -inf\n",
      "[LightGBM] [Warning] No further splits with positive gain, best gain: -inf\n",
      "[LightGBM] [Warning] No further splits with positive gain, best gain: -inf\n",
      "[LightGBM] [Warning] No further splits with positive gain, best gain: -inf\n",
      "[LightGBM] [Warning] No further splits with positive gain, best gain: -inf\n",
      "[LightGBM] [Warning] No further splits with positive gain, best gain: -inf\n",
      "[LightGBM] [Warning] No further splits with positive gain, best gain: -inf\n",
      "[LightGBM] [Warning] No further splits with positive gain, best gain: -inf\n",
      "[LightGBM] [Warning] No further splits with positive gain, best gain: -inf\n",
      "[LightGBM] [Warning] No further splits with positive gain, best gain: -inf\n",
      "[LightGBM] [Warning] No further splits with positive gain, best gain: -inf\n",
      "[LightGBM] [Warning] No further splits with positive gain, best gain: -inf\n",
      "[LightGBM] [Warning] No further splits with positive gain, best gain: -inf\n",
      "[LightGBM] [Warning] No further splits with positive gain, best gain: -inf\n",
      "[LightGBM] [Warning] No further splits with positive gain, best gain: -inf\n",
      "[LightGBM] [Warning] No further splits with positive gain, best gain: -inf\n",
      "[LightGBM] [Warning] No further splits with positive gain, best gain: -inf\n",
      "[LightGBM] [Warning] No further splits with positive gain, best gain: -inf\n",
      "[LightGBM] [Warning] No further splits with positive gain, best gain: -inf\n",
      "[LightGBM] [Warning] No further splits with positive gain, best gain: -inf\n",
      "[LightGBM] [Warning] No further splits with positive gain, best gain: -inf\n",
      "[LightGBM] [Warning] No further splits with positive gain, best gain: -inf\n",
      "[LightGBM] [Warning] No further splits with positive gain, best gain: -inf\n",
      "[LightGBM] [Warning] No further splits with positive gain, best gain: -inf\n",
      "[LightGBM] [Warning] No further splits with positive gain, best gain: -inf\n",
      "[LightGBM] [Warning] No further splits with positive gain, best gain: -inf\n",
      "[LightGBM] [Warning] No further splits with positive gain, best gain: -inf\n",
      "[LightGBM] [Warning] No further splits with positive gain, best gain: -inf\n",
      "[LightGBM] [Warning] No further splits with positive gain, best gain: -inf\n",
      "[LightGBM] [Warning] No further splits with positive gain, best gain: -inf\n",
      "[LightGBM] [Warning] No further splits with positive gain, best gain: -inf\n",
      "[LightGBM] [Warning] No further splits with positive gain, best gain: -inf\n",
      "[LightGBM] [Warning] No further splits with positive gain, best gain: -inf\n",
      "[LightGBM] [Warning] No further splits with positive gain, best gain: -inf\n",
      "[LightGBM] [Warning] No further splits with positive gain, best gain: -inf\n",
      "[LightGBM] [Warning] No further splits with positive gain, best gain: -inf\n",
      "[LightGBM] [Warning] No further splits with positive gain, best gain: -inf\n",
      "[LightGBM] [Warning] No further splits with positive gain, best gain: -inf\n",
      "[LightGBM] [Warning] No further splits with positive gain, best gain: -inf\n",
      "[LightGBM] [Warning] No further splits with positive gain, best gain: -inf\n",
      "[LightGBM] [Warning] No further splits with positive gain, best gain: -inf\n",
      "[LightGBM] [Warning] No further splits with positive gain, best gain: -inf\n",
      "[LightGBM] [Warning] No further splits with positive gain, best gain: -inf\n",
      "[LightGBM] [Warning] No further splits with positive gain, best gain: -inf\n",
      "[LightGBM] [Warning] No further splits with positive gain, best gain: -inf\n",
      "[LightGBM] [Warning] No further splits with positive gain, best gain: -inf\n",
      "[LightGBM] [Warning] No further splits with positive gain, best gain: -inf\n",
      "[LightGBM] [Warning] No further splits with positive gain, best gain: -inf\n",
      "[LightGBM] [Warning] No further splits with positive gain, best gain: -inf\n",
      "[LightGBM] [Warning] No further splits with positive gain, best gain: -inf\n",
      "[LightGBM] [Warning] No further splits with positive gain, best gain: -inf\n",
      "[LightGBM] [Warning] No further splits with positive gain, best gain: -inf\n",
      "[LightGBM] [Warning] No further splits with positive gain, best gain: -inf\n",
      "[LightGBM] [Warning] No further splits with positive gain, best gain: -inf\n",
      "[LightGBM] [Warning] No further splits with positive gain, best gain: -inf\n",
      "[LightGBM] [Warning] No further splits with positive gain, best gain: -inf\n",
      "[LightGBM] [Warning] No further splits with positive gain, best gain: -inf\n"
     ]
    },
    {
     "name": "stdout",
     "output_type": "stream",
     "text": [
      "[1]\ttrain's multi_logloss: 3.66133\tvalid's multi_logloss: 3.73385\n",
      "Training until validation scores don't improve for 10 rounds\n",
      "[2]\ttrain's multi_logloss: 3.5666\tvalid's multi_logloss: 3.6538\n",
      "[3]\ttrain's multi_logloss: 3.5101\tvalid's multi_logloss: 3.61661\n",
      "[4]\ttrain's multi_logloss: 3.45769\tvalid's multi_logloss: 3.57546\n",
      "[5]\ttrain's multi_logloss: 3.40697\tvalid's multi_logloss: 3.53355\n",
      "[6]\ttrain's multi_logloss: 3.38188\tvalid's multi_logloss: 3.5165\n",
      "[7]\ttrain's multi_logloss: 3.32749\tvalid's multi_logloss: 3.47084\n",
      "[8]\ttrain's multi_logloss: 3.30389\tvalid's multi_logloss: 3.4539\n",
      "[9]\ttrain's multi_logloss: 3.26242\tvalid's multi_logloss: 3.41859\n",
      "[10]\ttrain's multi_logloss: 3.23467\tvalid's multi_logloss: 3.39797\n",
      "[11]\ttrain's multi_logloss: 3.20358\tvalid's multi_logloss: 3.37285\n",
      "[12]\ttrain's multi_logloss: 3.1812\tvalid's multi_logloss: 3.35658\n",
      "[13]\ttrain's multi_logloss: 3.15043\tvalid's multi_logloss: 3.33306\n",
      "[14]\ttrain's multi_logloss: 3.12809\tvalid's multi_logloss: 3.31763\n",
      "[15]\ttrain's multi_logloss: 3.09962\tvalid's multi_logloss: 3.29484\n",
      "[16]\ttrain's multi_logloss: 3.07852\tvalid's multi_logloss: 3.27986\n",
      "[17]\ttrain's multi_logloss: 3.05197\tvalid's multi_logloss: 3.25894\n",
      "[18]\ttrain's multi_logloss: 3.03585\tvalid's multi_logloss: 3.24857\n",
      "[19]\ttrain's multi_logloss: 3.00981\tvalid's multi_logloss: 3.2286\n",
      "[20]\ttrain's multi_logloss: 2.99249\tvalid's multi_logloss: 3.21739\n",
      "[21]\ttrain's multi_logloss: 2.96882\tvalid's multi_logloss: 3.199\n",
      "[22]\ttrain's multi_logloss: 2.95302\tvalid's multi_logloss: 3.18898\n",
      "[23]\ttrain's multi_logloss: 2.93272\tvalid's multi_logloss: 3.17431\n",
      "[24]\ttrain's multi_logloss: 2.91892\tvalid's multi_logloss: 3.16737\n",
      "[25]\ttrain's multi_logloss: 2.89674\tvalid's multi_logloss: 3.14894\n",
      "[26]\ttrain's multi_logloss: 2.88348\tvalid's multi_logloss: 3.14013\n",
      "[27]\ttrain's multi_logloss: 2.86266\tvalid's multi_logloss: 3.12555\n",
      "[28]\ttrain's multi_logloss: 2.84883\tvalid's multi_logloss: 3.11766\n",
      "[29]\ttrain's multi_logloss: 2.83213\tvalid's multi_logloss: 3.10603\n",
      "[30]\ttrain's multi_logloss: 2.81686\tvalid's multi_logloss: 3.09571\n",
      "[31]\ttrain's multi_logloss: 2.80201\tvalid's multi_logloss: 3.08583\n",
      "[32]\ttrain's multi_logloss: 2.78754\tvalid's multi_logloss: 3.07623\n",
      "[33]\ttrain's multi_logloss: 2.77373\tvalid's multi_logloss: 3.06734\n",
      "[34]\ttrain's multi_logloss: 2.75954\tvalid's multi_logloss: 3.05789\n",
      "[35]\ttrain's multi_logloss: 2.74612\tvalid's multi_logloss: 3.04919\n",
      "[36]\ttrain's multi_logloss: 2.73305\tvalid's multi_logloss: 3.04077\n",
      "[37]\ttrain's multi_logloss: 2.72028\tvalid's multi_logloss: 3.03265\n",
      "[38]\ttrain's multi_logloss: 2.70779\tvalid's multi_logloss: 3.02474\n",
      "[39]\ttrain's multi_logloss: 2.69554\tvalid's multi_logloss: 3.01718\n",
      "[40]\ttrain's multi_logloss: 2.68361\tvalid's multi_logloss: 3.00973\n",
      "[41]\ttrain's multi_logloss: 2.672\tvalid's multi_logloss: 3.00246\n",
      "[42]\ttrain's multi_logloss: 2.6607\tvalid's multi_logloss: 2.99546\n",
      "[43]\ttrain's multi_logloss: 2.64963\tvalid's multi_logloss: 2.98862\n",
      "[44]\ttrain's multi_logloss: 2.6388\tvalid's multi_logloss: 2.98194\n",
      "[45]\ttrain's multi_logloss: 2.62814\tvalid's multi_logloss: 2.97544\n",
      "[46]\ttrain's multi_logloss: 2.61774\tvalid's multi_logloss: 2.96913\n",
      "[47]\ttrain's multi_logloss: 2.60762\tvalid's multi_logloss: 2.96294\n",
      "[48]\ttrain's multi_logloss: 2.59767\tvalid's multi_logloss: 2.95695\n",
      "[49]\ttrain's multi_logloss: 2.58798\tvalid's multi_logloss: 2.9511\n",
      "[50]\ttrain's multi_logloss: 2.57851\tvalid's multi_logloss: 2.94543\n",
      "[51]\ttrain's multi_logloss: 2.56923\tvalid's multi_logloss: 2.93989\n",
      "[52]\ttrain's multi_logloss: 2.56013\tvalid's multi_logloss: 2.9345\n",
      "[53]\ttrain's multi_logloss: 2.5513\tvalid's multi_logloss: 2.92928\n",
      "[54]\ttrain's multi_logloss: 2.54258\tvalid's multi_logloss: 2.9241\n",
      "[55]\ttrain's multi_logloss: 2.53399\tvalid's multi_logloss: 2.91908\n",
      "[56]\ttrain's multi_logloss: 2.5256\tvalid's multi_logloss: 2.91419\n",
      "[57]\ttrain's multi_logloss: 2.5174\tvalid's multi_logloss: 2.90944\n",
      "[58]\ttrain's multi_logloss: 2.50977\tvalid's multi_logloss: 2.90536\n",
      "[59]\ttrain's multi_logloss: 2.50188\tvalid's multi_logloss: 2.90083\n",
      "[60]\ttrain's multi_logloss: 2.49402\tvalid's multi_logloss: 2.89628\n",
      "[61]\ttrain's multi_logloss: 2.4864\tvalid's multi_logloss: 2.89195\n",
      "[62]\ttrain's multi_logloss: 2.47888\tvalid's multi_logloss: 2.8877\n",
      "[63]\ttrain's multi_logloss: 2.47149\tvalid's multi_logloss: 2.88355\n",
      "[64]\ttrain's multi_logloss: 2.46427\tvalid's multi_logloss: 2.87949\n",
      "[65]\ttrain's multi_logloss: 2.45712\tvalid's multi_logloss: 2.87558\n",
      "[66]\ttrain's multi_logloss: 2.45015\tvalid's multi_logloss: 2.87173\n",
      "[67]\ttrain's multi_logloss: 2.44324\tvalid's multi_logloss: 2.86797\n",
      "[68]\ttrain's multi_logloss: 2.43645\tvalid's multi_logloss: 2.86432\n",
      "[69]\ttrain's multi_logloss: 2.42975\tvalid's multi_logloss: 2.86076\n",
      "[70]\ttrain's multi_logloss: 2.42318\tvalid's multi_logloss: 2.85724\n",
      "[71]\ttrain's multi_logloss: 2.41666\tvalid's multi_logloss: 2.85382\n",
      "[72]\ttrain's multi_logloss: 2.41413\tvalid's multi_logloss: 2.85465\n",
      "[73]\ttrain's multi_logloss: 2.4086\tvalid's multi_logloss: 2.85369\n",
      "[74]\ttrain's multi_logloss: 2.39944\tvalid's multi_logloss: 2.84653\n",
      "[75]\ttrain's multi_logloss: 2.3932\tvalid's multi_logloss: 2.84332\n",
      "[76]\ttrain's multi_logloss: 2.38705\tvalid's multi_logloss: 2.84015\n",
      "[77]\ttrain's multi_logloss: 2.38094\tvalid's multi_logloss: 2.83703\n",
      "[78]\ttrain's multi_logloss: 2.37494\tvalid's multi_logloss: 2.83401\n",
      "[79]\ttrain's multi_logloss: 2.36901\tvalid's multi_logloss: 2.83107\n",
      "[80]\ttrain's multi_logloss: 2.36325\tvalid's multi_logloss: 2.82822\n",
      "[81]\ttrain's multi_logloss: 2.35757\tvalid's multi_logloss: 2.82544\n",
      "[82]\ttrain's multi_logloss: 2.35201\tvalid's multi_logloss: 2.82272\n",
      "[83]\ttrain's multi_logloss: 2.34649\tvalid's multi_logloss: 2.82006\n",
      "[84]\ttrain's multi_logloss: 2.34108\tvalid's multi_logloss: 2.81741\n",
      "[85]\ttrain's multi_logloss: 2.33575\tvalid's multi_logloss: 2.81486\n",
      "[86]\ttrain's multi_logloss: 2.33047\tvalid's multi_logloss: 2.81234\n",
      "[87]\ttrain's multi_logloss: 2.32528\tvalid's multi_logloss: 2.80987\n",
      "[88]\ttrain's multi_logloss: 2.32018\tvalid's multi_logloss: 2.80749\n",
      "[89]\ttrain's multi_logloss: 2.3151\tvalid's multi_logloss: 2.80511\n",
      "[90]\ttrain's multi_logloss: 2.3101\tvalid's multi_logloss: 2.8028\n",
      "[91]\ttrain's multi_logloss: 2.30514\tvalid's multi_logloss: 2.80054\n",
      "[92]\ttrain's multi_logloss: 2.30017\tvalid's multi_logloss: 2.79836\n",
      "[93]\ttrain's multi_logloss: 2.29536\tvalid's multi_logloss: 2.79623\n",
      "[94]\ttrain's multi_logloss: 2.29063\tvalid's multi_logloss: 2.79409\n",
      "[95]\ttrain's multi_logloss: 2.28587\tvalid's multi_logloss: 2.79203\n",
      "[96]\ttrain's multi_logloss: 2.28121\tvalid's multi_logloss: 2.78999\n",
      "[97]\ttrain's multi_logloss: 2.27659\tvalid's multi_logloss: 2.78799\n",
      "[98]\ttrain's multi_logloss: 2.27204\tvalid's multi_logloss: 2.78603\n",
      "[99]\ttrain's multi_logloss: 2.26751\tvalid's multi_logloss: 2.78416\n",
      "[100]\ttrain's multi_logloss: 2.26306\tvalid's multi_logloss: 2.78231\n",
      "Did not meet early stopping. Best iteration is:\n",
      "[100]\ttrain's multi_logloss: 2.26306\tvalid's multi_logloss: 2.78231\n"
     ]
    }
   ],
   "source": [
    "#put early stopping if there will be no improvement for the algorithm\n",
    "clf = lgb.train(params,d_train,100,valid_sets=[d_train, d_valid],valid_names=['train','valid'], evals_result=evals_results,\n",
    "               early_stopping_rounds=10)"
   ]
  },
  {
   "cell_type": "code",
   "execution_count": 25,
   "metadata": {},
   "outputs": [],
   "source": [
    "y_pred_1 = clf.predict(X_test)\n",
    "y_pred_1 = [np.argmax(line) for line in y_pred_1]"
   ]
  },
  {
   "cell_type": "code",
   "execution_count": 26,
   "metadata": {},
   "outputs": [
    {
     "name": "stdout",
     "output_type": "stream",
     "text": [
      "Accuracy Score : 0.33641229281767954\n",
      "Report : \n",
      "              precision    recall  f1-score   support\n",
      "\n",
      "          10       0.00      0.00      0.00         1\n",
      "          13       0.00      0.00      0.00         1\n",
      "          15       0.00      0.00      0.00         1\n",
      "          22       0.00      0.00      0.00         1\n",
      "          25       0.00      0.00      0.00         1\n",
      "          33       0.00      0.00      0.00         1\n",
      "          34       0.00      0.00      0.00         1\n",
      "          37       0.00      0.00      0.00         0\n",
      "          38       0.00      0.00      0.00         0\n",
      "          40       0.00      0.00      0.00         1\n",
      "          43       0.00      0.00      0.00         0\n",
      "          46       0.00      0.00      0.00         1\n",
      "          48       0.00      0.00      0.00         0\n",
      "          49       0.00      0.00      0.00         1\n",
      "          52       0.00      0.00      0.00         2\n",
      "          55       0.00      0.00      0.00         1\n",
      "          56       0.00      0.00      0.00         1\n",
      "          58       0.00      0.00      0.00         1\n",
      "          59       0.00      0.00      0.00         1\n",
      "          60       0.00      0.00      0.00         2\n",
      "          62       0.00      0.00      0.00         0\n",
      "          63       0.00      0.00      0.00         1\n",
      "          66       0.00      0.00      0.00         1\n",
      "          67       0.00      0.00      0.00         1\n",
      "          68       0.00      0.00      0.00         1\n",
      "          69       0.00      0.00      0.00         0\n",
      "          73       0.00      0.00      0.00         1\n",
      "          77       0.00      0.00      0.00         1\n",
      "          78       0.00      0.00      0.00         2\n",
      "          79       0.00      0.00      0.00         0\n",
      "          80       0.00      0.00      0.00         1\n",
      "          82       0.00      0.00      0.00         1\n",
      "          85       0.00      0.00      0.00         1\n",
      "          90       0.00      0.00      0.00         1\n",
      "          93       0.00      0.00      0.00         0\n",
      "          96       0.00      0.00      0.00         1\n",
      "         100       0.00      0.00      0.00         1\n",
      "         101       0.00      0.00      0.00         0\n",
      "         102       0.00      0.00      0.00         1\n",
      "         106       0.00      0.00      0.00         2\n",
      "         107       0.00      0.00      0.00         1\n",
      "         108       0.00      0.00      0.00         1\n",
      "         109       0.00      0.00      0.00         3\n",
      "         115       0.00      0.00      0.00         2\n",
      "         116       0.00      0.00      0.00         1\n",
      "         117       0.00      0.00      0.00         1\n",
      "         121       0.00      0.00      0.00         1\n",
      "         122       0.00      0.00      0.00         2\n",
      "         126       0.00      0.00      0.00         0\n",
      "         127       0.00      0.00      0.00         1\n",
      "         128       0.00      0.00      0.00         1\n",
      "         131       0.00      0.00      0.00         2\n",
      "         132       0.00      0.00      0.00         5\n",
      "         133       0.00      0.00      0.00         5\n",
      "         134       0.00      0.00      0.00        15\n",
      "         135       0.00      0.00      0.00         6\n",
      "         136       0.00      0.00      0.00         1\n",
      "         138       0.00      0.00      0.00         1\n",
      "         140       0.00      0.00      0.00         1\n",
      "         144       0.00      0.00      0.00         9\n",
      "         145       0.00      0.00      0.00        88\n",
      "         146       0.00      0.00      0.00         3\n",
      "         148       0.00      0.00      0.00         0\n",
      "         149       0.00      0.00      0.00         1\n",
      "         152       0.00      0.00      0.00         6\n",
      "         153       0.00      0.00      0.00       374\n",
      "         154       0.00      0.00      0.00       156\n",
      "         155       0.00      0.00      0.00         0\n",
      "         157       0.00      0.00      0.00         1\n",
      "         158       0.08      0.01      0.01       320\n",
      "         159       0.34      0.47      0.39      2901\n",
      "         160       0.13      0.01      0.01       583\n",
      "         161       0.00      0.00      0.00         1\n",
      "         162       0.00      0.00      0.00         2\n",
      "         164       0.00      0.00      0.00         2\n",
      "         166       0.08      0.01      0.02       314\n",
      "         167       0.00      0.00      0.00        17\n",
      "         168       0.00      0.00      0.00         4\n",
      "         169       0.00      0.00      0.00         6\n",
      "         170       0.00      0.00      0.00         3\n",
      "         174       0.00      0.00      0.00         0\n",
      "         175       0.00      0.00      0.00         0\n",
      "         176       0.14      0.02      0.04        43\n",
      "         177       0.00      0.00      0.00        94\n",
      "         178       0.00      0.00      0.00         2\n",
      "         180       0.00      0.00      0.00         1\n",
      "         181       0.00      0.00      0.00         2\n",
      "         184       0.00      0.00      0.00         0\n",
      "         185       0.00      0.00      0.00         0\n",
      "         187       0.00      0.00      0.00         0\n",
      "         188       0.00      0.00      0.00         1\n",
      "         189       0.00      0.00      0.00        63\n",
      "         191       0.00      0.00      0.00         1\n",
      "         192       0.00      0.00      0.00         2\n",
      "         193       0.00      0.00      0.00         1\n",
      "         195       0.00      0.00      0.00         3\n",
      "         196       0.00      0.00      0.00         2\n",
      "         197       0.00      0.00      0.00        33\n",
      "         198       0.09      0.03      0.05        29\n",
      "         200       0.00      0.00      0.00         2\n",
      "         201       0.00      0.00      0.00         0\n",
      "         202       0.00      0.00      0.00         0\n",
      "         203       0.00      0.00      0.00         1\n",
      "         204       0.00      0.00      0.00         1\n",
      "         206       0.00      0.00      0.00         1\n",
      "         207       0.00      0.00      0.00         2\n",
      "         208       0.00      0.00      0.00       113\n",
      "         209       0.00      0.00      0.00        26\n",
      "         210       0.00      0.00      0.00         1\n",
      "         211       0.00      0.00      0.00         2\n",
      "         212       0.00      0.00      0.00         1\n",
      "         214       0.00      0.00      0.00         4\n",
      "         215       0.00      0.00      0.00         4\n",
      "         216       0.00      0.00      0.00         0\n",
      "         217       0.44      0.17      0.24        96\n",
      "         218       0.00      0.00      0.00         0\n",
      "         219       0.00      0.00      0.00         1\n",
      "         220       1.00      0.50      0.67         2\n",
      "         221       0.09      0.50      0.15         2\n",
      "         223       0.00      0.00      0.00         0\n",
      "         226       0.00      0.00      0.00        25\n",
      "         229       0.00      0.00      0.00         1\n",
      "         230       0.00      0.00      0.00         1\n",
      "         231       0.00      0.00      0.00         0\n",
      "         232       0.00      0.00      0.00         0\n",
      "         233       0.00      0.00      0.00         1\n",
      "         237       0.00      0.00      0.00        22\n",
      "         238       0.00      0.00      0.00         2\n",
      "         239       0.00      0.00      0.00         1\n",
      "         240       0.00      0.00      0.00         0\n",
      "         241       0.00      0.00      0.00         0\n",
      "         242       0.00      0.00      0.00         3\n",
      "         243       0.00      0.00      0.00         3\n",
      "         248       0.00      0.00      0.00         7\n",
      "         249       0.00      0.00      0.00         1\n",
      "         250       0.00      0.00      0.00        17\n",
      "         251       0.00      0.00      0.00        27\n",
      "         252       0.12      0.22      0.15         9\n",
      "         253       0.03      0.06      0.04        17\n",
      "         254       0.00      0.00      0.00        10\n",
      "         255       0.00      0.00      0.00        30\n",
      "         256       0.00      0.00      0.00        18\n",
      "         257       0.03      0.07      0.05        15\n",
      "         258       0.00      0.00      0.00        20\n",
      "         259       0.00      0.00      0.00         4\n",
      "         260       0.00      0.00      0.00         0\n",
      "         261       0.00      0.00      0.00         0\n",
      "         263       0.00      0.00      0.00         1\n",
      "         265       0.00      0.00      0.00         1\n",
      "         266       0.00      0.00      0.00        17\n",
      "         267       0.28      0.12      0.16        78\n",
      "         268       0.00      0.00      0.00        16\n",
      "         269       0.00      0.00      0.00         9\n",
      "         270       0.02      0.01      0.02        78\n",
      "         271       0.13      0.18      0.15       156\n",
      "         272       0.04      0.05      0.05        60\n",
      "         273       0.00      0.00      0.00        35\n",
      "         274       0.00      0.00      0.00        38\n",
      "         275       0.08      0.06      0.07        63\n",
      "         276       0.00      0.00      0.00         2\n",
      "         277       0.00      0.00      0.00         1\n",
      "         278       0.00      0.00      0.00         1\n",
      "         279       0.00      0.00      0.00         1\n",
      "         280       0.00      0.00      0.00         0\n",
      "         282       0.00      0.00      0.00         4\n",
      "         283       0.10      0.18      0.12        11\n",
      "         284       0.07      0.05      0.06        38\n",
      "         285       0.00      0.00      0.00        55\n",
      "         286       0.09      0.03      0.04        73\n",
      "         287       0.00      0.00      0.00        41\n",
      "         288       0.14      0.13      0.13       190\n",
      "         289       0.00      0.00      0.00        49\n",
      "         290       0.12      0.07      0.09        28\n",
      "         291       0.00      0.00      0.00        16\n",
      "         292       0.06      0.07      0.06        30\n",
      "         293       0.03      0.04      0.04        28\n",
      "         294       0.06      0.04      0.05        25\n",
      "         295       0.00      0.00      0.00         7\n",
      "         297       0.00      0.00      0.00         0\n",
      "         298       0.00      0.00      0.00         1\n",
      "         299       0.00      0.00      0.00         1\n",
      "         300       0.04      0.20      0.06         5\n",
      "         301       0.00      0.00      0.00        31\n",
      "         302       0.30      0.18      0.23        39\n",
      "         303       0.08      0.04      0.06        71\n",
      "         304       0.17      0.12      0.14       400\n",
      "         305       0.08      0.03      0.05       124\n",
      "         306       0.00      0.00      0.00        27\n",
      "         307       0.00      0.00      0.00        16\n",
      "         308       0.00      0.00      0.00        13\n",
      "         309       0.10      0.13      0.11        47\n",
      "         310       0.05      0.08      0.06        63\n",
      "         311       0.00      0.00      0.00        36\n",
      "         312       0.00      0.00      0.00        42\n",
      "         313       0.06      0.15      0.08        13\n",
      "         314       0.00      0.00      0.00         1\n",
      "         315       0.22      0.08      0.12       202\n",
      "         316       0.15      0.03      0.05       291\n",
      "         317       0.25      0.12      0.17       459\n",
      "         318       0.21      0.18      0.19      1388\n",
      "         319       0.24      0.30      0.26       636\n",
      "         320       0.18      0.07      0.10       191\n",
      "         321       0.05      0.02      0.03        42\n",
      "         322       0.00      0.00      0.00        30\n",
      "         323       0.00      0.00      0.00        22\n",
      "         324       0.02      0.01      0.02        72\n",
      "         325       0.00      0.00      0.00        33\n",
      "         326       0.00      0.00      0.00        16\n",
      "         327       0.00      0.00      0.00        25\n",
      "         333       0.18      0.09      0.12       187\n",
      "         334       0.16      0.11      0.13       285\n",
      "         335       0.19      0.15      0.17       416\n",
      "         336       0.36      0.49      0.41      2882\n",
      "         337       0.25      0.18      0.21      1459\n",
      "         338       0.27      0.26      0.26      1175\n",
      "         339       0.07      0.01      0.02       146\n",
      "         340       0.24      0.16      0.19       338\n",
      "         341       0.18      0.19      0.18       285\n",
      "         342       0.09      0.07      0.08       152\n",
      "         343       0.06      0.09      0.07        33\n",
      "         344       0.10      0.08      0.09        60\n",
      "         345       0.04      0.04      0.04        45\n",
      "         349       0.00      0.00      0.00         1\n",
      "         350       0.04      0.01      0.01       119\n",
      "         351       0.20      0.04      0.07       477\n",
      "         352       0.32      0.25      0.28       979\n",
      "         353       0.29      0.19      0.23      1739\n",
      "         354       0.33      0.34      0.33      2060\n",
      "         355       0.26      0.17      0.20      1080\n",
      "         356       0.32      0.56      0.41      1698\n",
      "         357       0.09      0.02      0.04       130\n",
      "         358       0.28      0.16      0.20       201\n",
      "         359       0.06      0.02      0.03        93\n",
      "         360       0.00      0.00      0.00        29\n",
      "         361       0.04      0.04      0.04        26\n",
      "         362       0.04      0.03      0.03        38\n",
      "         364       0.00      0.00      0.00         0\n",
      "         365       0.00      0.00      0.00         1\n",
      "         369       0.33      0.24      0.28      1596\n",
      "         370       0.29      0.23      0.25      2976\n",
      "         371       0.36      0.25      0.30      3816\n",
      "         372       0.33      0.34      0.34      2513\n",
      "         373       0.32      0.28      0.30      1210\n",
      "         374       0.29      0.33      0.31      1104\n",
      "         375       0.22      0.16      0.19       498\n",
      "         376       0.19      0.35      0.25       544\n",
      "         377       0.14      0.15      0.15       320\n",
      "         378       0.19      0.23      0.21       372\n",
      "         379       0.13      0.12      0.13       186\n",
      "         380       0.11      0.08      0.09        90\n",
      "         381       0.09      0.05      0.06        66\n",
      "         383       0.00      0.00      0.00         0\n",
      "         384       0.00      0.00      0.00         1\n",
      "         388       0.02      1.00      0.04         1\n",
      "         389       0.43      0.10      0.16      1534\n",
      "         390       0.35      0.51      0.41     10710\n",
      "         391       0.42      0.53      0.47     10358\n",
      "         392       0.35      0.30      0.32      5262\n",
      "         393       0.36      0.40      0.38      2467\n",
      "         394       0.27      0.23      0.25       987\n",
      "         395       0.24      0.26      0.25       488\n",
      "         396       0.11      0.07      0.09       207\n",
      "         397       0.06      0.03      0.04        40\n",
      "         398       0.03      0.03      0.03        37\n",
      "         399       0.05      0.04      0.05        23\n",
      "         400       0.06      0.09      0.07        11\n",
      "         403       0.00      0.00      0.00         1\n",
      "         404       0.00      0.00      0.00         1\n",
      "         405       0.00      0.00      0.00         0\n",
      "         406       0.00      0.00      0.00         2\n",
      "         407       0.00      0.00      0.00         1\n",
      "         409       0.00      0.00      0.00         1\n",
      "         412       0.00      0.00      0.00         1\n",
      "         413       0.00      0.00      0.00         1\n",
      "         414       0.37      0.09      0.15       159\n",
      "         415       0.36      0.10      0.16      2235\n",
      "         416       0.43      0.44      0.44      3663\n",
      "         417       0.35      0.26      0.29      2550\n",
      "         418       0.34      0.32      0.33      2279\n",
      "         419       0.49      0.57      0.52      3014\n",
      "         420       0.12      0.04      0.06       181\n",
      "         421       0.08      0.05      0.06        20\n",
      "         422       0.00      0.00      0.00         7\n",
      "         423       0.00      0.00      0.00         2\n",
      "         425       0.00      0.00      0.00         1\n",
      "         426       0.00      0.00      0.00         2\n",
      "         428       0.00      0.00      0.00         1\n",
      "         429       0.00      0.00      0.00         1\n",
      "         430       0.00      0.00      0.00         1\n",
      "         434       0.00      0.00      0.00         0\n",
      "         435       0.00      0.00      0.00         6\n",
      "         438       0.28      0.11      0.15        76\n",
      "         439       0.44      0.39      0.41      1774\n",
      "         440       0.40      0.41      0.41      1743\n",
      "         441       0.00      0.00      0.00        47\n",
      "         442       0.07      0.02      0.03        51\n",
      "         443       0.06      0.06      0.06        18\n",
      "         445       0.16      0.12      0.14        51\n",
      "         446       0.00      0.00      0.00         8\n",
      "         448       0.00      0.00      0.00         1\n",
      "         449       0.00      0.00      0.00         0\n",
      "         450       0.00      0.00      0.00         3\n",
      "         452       0.00      0.00      0.00         0\n",
      "         453       0.00      0.00      0.00         1\n",
      "         454       0.00      0.00      0.00         0\n",
      "         455       0.00      0.00      0.00         4\n",
      "         457       0.00      0.00      0.00         0\n",
      "         459       0.00      0.00      0.00         3\n",
      "         460       0.00      0.00      0.00         4\n",
      "         461       0.00      0.00      0.00         1\n",
      "         462       0.00      0.00      0.00         0\n",
      "         464       0.00      0.00      0.00         0\n",
      "         465       0.00      0.00      0.00         2\n",
      "         467       0.00      0.00      0.00         1\n",
      "         468       0.00      0.00      0.00         4\n",
      "         469       0.00      0.00      0.00         0\n",
      "         470       0.00      0.00      0.00         1\n",
      "         472       0.00      0.00      0.00         1\n",
      "         476       0.00      0.00      0.00         2\n",
      "         477       0.00      0.00      0.00         1\n",
      "         478       0.00      0.00      0.00         0\n",
      "         479       0.00      0.00      0.00         1\n",
      "         480       0.00      0.00      0.00         1\n",
      "         481       0.00      0.00      0.00         1\n",
      "         483       0.00      0.00      0.00         2\n",
      "         484       0.00      0.00      0.00         1\n",
      "         485       0.00      0.00      0.00         1\n",
      "         489       0.00      0.00      0.00         1\n",
      "         490       0.00      0.00      0.00         1\n",
      "         491       0.00      0.00      0.00         0\n",
      "         495       0.00      0.00      0.00         1\n",
      "         496       0.00      0.00      0.00         1\n",
      "         497       0.00      0.00      0.00         7\n",
      "         498       0.00      0.00      0.00         0\n",
      "         499       0.00      0.00      0.00         2\n",
      "         500       0.00      0.00      0.00         1\n",
      "         501       0.00      0.00      0.00         1\n",
      "         502       0.00      0.00      0.00         1\n",
      "         503       0.00      0.00      0.00         0\n",
      "         504       0.00      0.00      0.00         1\n",
      "         505       0.00      0.00      0.00         0\n",
      "         506       0.00      0.00      0.00         0\n",
      "         507       0.00      0.00      0.00         2\n",
      "         508       0.00      0.00      0.00         1\n",
      "         509       0.00      0.00      0.00         1\n",
      "         510       0.00      0.00      0.00         0\n",
      "         511       0.00      0.00      0.00         1\n",
      "         513       0.00      0.00      0.00         0\n",
      "         514       0.00      0.00      0.00         1\n",
      "         516       0.00      0.00      0.00         1\n",
      "         517       0.00      0.00      0.00         1\n",
      "         518       0.00      0.00      0.00         0\n",
      "         519       0.00      0.00      0.00         1\n",
      "         520       0.00      0.00      0.00         1\n",
      "         521       0.00      0.00      0.00         5\n",
      "         522       0.00      0.00      0.00         3\n",
      "         523       0.00      0.00      0.00         1\n",
      "         524       0.00      0.00      0.00         0\n",
      "         525       0.00      0.00      0.00         1\n",
      "         526       0.00      0.00      0.00         1\n",
      "         528       0.00      0.00      0.00         1\n",
      "         529       0.00      0.00      0.00         0\n",
      "         531       0.00      0.00      0.00         0\n",
      "         532       0.00      0.00      0.00         1\n",
      "         533       0.00      0.00      0.00         1\n",
      "         537       0.00      0.00      0.00         1\n",
      "         538       0.00      0.00      0.00         1\n",
      "         539       0.00      0.00      0.00         2\n",
      "         541       0.00      0.00      0.00         0\n",
      "         543       0.00      0.00      0.00         0\n",
      "         545       0.00      0.00      0.00         0\n",
      "         546       0.00      0.00      0.00         2\n",
      "         547       0.00      0.00      0.00         1\n",
      "         548       0.00      0.00      0.00         0\n",
      "         549       0.00      0.00      0.00         0\n",
      "         551       0.00      0.00      0.00         0\n",
      "         553       0.00      0.00      0.00         1\n",
      "         554       0.00      0.00      0.00         0\n",
      "         556       0.00      0.00      0.00         0\n",
      "         557       0.00      0.00      0.00         1\n",
      "         562       0.00      0.00      0.00         0\n",
      "         564       0.00      0.00      0.00         1\n",
      "         565       0.00      0.00      0.00         0\n",
      "         566       0.00      0.00      0.00         0\n",
      "         569       0.00      0.00      0.00         1\n",
      "         572       0.00      0.00      0.00         0\n",
      "         573       0.00      0.00      0.00         0\n",
      "\n",
      "    accuracy                           0.34     92672\n",
      "   macro avg       0.05      0.05      0.04     92672\n",
      "weighted avg       0.33      0.34      0.32     92672\n",
      "\n"
     ]
    }
   ],
   "source": [
    "print ('Accuracy Score :',accuracy_score(y_test, y_pred_1) )\n",
    "print ('Report : ')\n",
    "print (classification_report(y_test, y_pred_1) )"
   ]
  },
  {
   "cell_type": "markdown",
   "metadata": {},
   "source": [
    "# 2. Multi Target Regression Model"
   ]
  },
  {
   "cell_type": "markdown",
   "metadata": {},
   "source": [
    "Second approach can be regression models. For that approach we need to separate target column as 2 different columns. target_latitude and target_longitude are created."
   ]
  },
  {
   "cell_type": "code",
   "execution_count": 27,
   "metadata": {},
   "outputs": [],
   "source": [
    "X_with_0_values = X[(X['occupation']==0)&(X['previous_occupation_status']==1)]"
   ]
  },
  {
   "cell_type": "code",
   "execution_count": 28,
   "metadata": {},
   "outputs": [],
   "source": [
    "X_with_0_values['target_latitude'] = [float(x[:x.find(\"-\")]) for x in X_with_0_values.target_column]\n",
    "X_with_0_values['target_longitude'] = [float(x[x.find(\"-\"):]) for x in X_with_0_values.target_column]"
   ]
  },
  {
   "cell_type": "code",
   "execution_count": 29,
   "metadata": {},
   "outputs": [
    {
     "data": {
      "text/html": [
       "<div>\n",
       "<style scoped>\n",
       "    .dataframe tbody tr th:only-of-type {\n",
       "        vertical-align: middle;\n",
       "    }\n",
       "\n",
       "    .dataframe tbody tr th {\n",
       "        vertical-align: top;\n",
       "    }\n",
       "\n",
       "    .dataframe thead th {\n",
       "        text-align: right;\n",
       "    }\n",
       "</style>\n",
       "<table border=\"1\" class=\"dataframe\">\n",
       "  <thead>\n",
       "    <tr style=\"text-align: right;\">\n",
       "      <th></th>\n",
       "      <th>latitude</th>\n",
       "      <th>longitude</th>\n",
       "      <th>occupation</th>\n",
       "      <th>time</th>\n",
       "      <th>taxi_id</th>\n",
       "      <th>next_latitude</th>\n",
       "      <th>next_longitude</th>\n",
       "      <th>next_occupation_status</th>\n",
       "      <th>previous_occupation_status</th>\n",
       "      <th>next_time</th>\n",
       "      <th>distance_miles</th>\n",
       "      <th>target_column</th>\n",
       "      <th>day_of_week</th>\n",
       "      <th>hour</th>\n",
       "      <th>holiday</th>\n",
       "      <th>target_latitude</th>\n",
       "      <th>target_longitude</th>\n",
       "    </tr>\n",
       "  </thead>\n",
       "  <tbody>\n",
       "    <tr>\n",
       "      <th>109</th>\n",
       "      <td>37.61</td>\n",
       "      <td>-122.39</td>\n",
       "      <td>0</td>\n",
       "      <td>2008-05-17 19:12:19</td>\n",
       "      <td>new_adkavy</td>\n",
       "      <td>37.61</td>\n",
       "      <td>-122.39</td>\n",
       "      <td>0.00</td>\n",
       "      <td>1.00</td>\n",
       "      <td>1211040785.00</td>\n",
       "      <td>0.27</td>\n",
       "      <td>37.61-122.39</td>\n",
       "      <td>5</td>\n",
       "      <td>19</td>\n",
       "      <td>0</td>\n",
       "      <td>37.61</td>\n",
       "      <td>-122.39</td>\n",
       "    </tr>\n",
       "    <tr>\n",
       "      <th>178</th>\n",
       "      <td>37.79</td>\n",
       "      <td>-122.43</td>\n",
       "      <td>0</td>\n",
       "      <td>2008-05-17 21:05:42</td>\n",
       "      <td>new_adkavy</td>\n",
       "      <td>37.79</td>\n",
       "      <td>-122.43</td>\n",
       "      <td>0.00</td>\n",
       "      <td>1.00</td>\n",
       "      <td>1211047602.00</td>\n",
       "      <td>0.15</td>\n",
       "      <td>37.79-122.44</td>\n",
       "      <td>5</td>\n",
       "      <td>21</td>\n",
       "      <td>0</td>\n",
       "      <td>37.79</td>\n",
       "      <td>-122.44</td>\n",
       "    </tr>\n",
       "    <tr>\n",
       "      <th>198</th>\n",
       "      <td>37.79</td>\n",
       "      <td>-122.40</td>\n",
       "      <td>0</td>\n",
       "      <td>2008-05-17 21:22:58</td>\n",
       "      <td>new_adkavy</td>\n",
       "      <td>37.79</td>\n",
       "      <td>-122.40</td>\n",
       "      <td>0.00</td>\n",
       "      <td>1.00</td>\n",
       "      <td>1211048639.00</td>\n",
       "      <td>0.07</td>\n",
       "      <td>37.79-122.4</td>\n",
       "      <td>5</td>\n",
       "      <td>21</td>\n",
       "      <td>0</td>\n",
       "      <td>37.79</td>\n",
       "      <td>-122.40</td>\n",
       "    </tr>\n",
       "    <tr>\n",
       "      <th>214</th>\n",
       "      <td>37.80</td>\n",
       "      <td>-122.43</td>\n",
       "      <td>0</td>\n",
       "      <td>2008-05-17 21:48:19</td>\n",
       "      <td>new_adkavy</td>\n",
       "      <td>37.80</td>\n",
       "      <td>-122.44</td>\n",
       "      <td>0.00</td>\n",
       "      <td>1.00</td>\n",
       "      <td>1211050164.00</td>\n",
       "      <td>0.12</td>\n",
       "      <td>37.8-122.44</td>\n",
       "      <td>5</td>\n",
       "      <td>21</td>\n",
       "      <td>0</td>\n",
       "      <td>37.80</td>\n",
       "      <td>-122.44</td>\n",
       "    </tr>\n",
       "    <tr>\n",
       "      <th>233</th>\n",
       "      <td>37.79</td>\n",
       "      <td>-122.41</td>\n",
       "      <td>0</td>\n",
       "      <td>2008-05-17 22:04:31</td>\n",
       "      <td>new_adkavy</td>\n",
       "      <td>37.79</td>\n",
       "      <td>-122.41</td>\n",
       "      <td>0.00</td>\n",
       "      <td>1.00</td>\n",
       "      <td>1211051095.00</td>\n",
       "      <td>0.00</td>\n",
       "      <td>37.79-122.4</td>\n",
       "      <td>5</td>\n",
       "      <td>22</td>\n",
       "      <td>0</td>\n",
       "      <td>37.79</td>\n",
       "      <td>-122.40</td>\n",
       "    </tr>\n",
       "  </tbody>\n",
       "</table>\n",
       "</div>"
      ],
      "text/plain": [
       "     latitude  longitude  occupation                time     taxi_id  \\\n",
       "109     37.61    -122.39           0 2008-05-17 19:12:19  new_adkavy   \n",
       "178     37.79    -122.43           0 2008-05-17 21:05:42  new_adkavy   \n",
       "198     37.79    -122.40           0 2008-05-17 21:22:58  new_adkavy   \n",
       "214     37.80    -122.43           0 2008-05-17 21:48:19  new_adkavy   \n",
       "233     37.79    -122.41           0 2008-05-17 22:04:31  new_adkavy   \n",
       "\n",
       "     next_latitude  next_longitude  next_occupation_status  \\\n",
       "109          37.61         -122.39                    0.00   \n",
       "178          37.79         -122.43                    0.00   \n",
       "198          37.79         -122.40                    0.00   \n",
       "214          37.80         -122.44                    0.00   \n",
       "233          37.79         -122.41                    0.00   \n",
       "\n",
       "     previous_occupation_status     next_time  distance_miles target_column  \\\n",
       "109                        1.00 1211040785.00            0.27  37.61-122.39   \n",
       "178                        1.00 1211047602.00            0.15  37.79-122.44   \n",
       "198                        1.00 1211048639.00            0.07   37.79-122.4   \n",
       "214                        1.00 1211050164.00            0.12   37.8-122.44   \n",
       "233                        1.00 1211051095.00            0.00   37.79-122.4   \n",
       "\n",
       "     day_of_week  hour  holiday  target_latitude  target_longitude  \n",
       "109            5    19        0            37.61           -122.39  \n",
       "178            5    21        0            37.79           -122.44  \n",
       "198            5    21        0            37.79           -122.40  \n",
       "214            5    21        0            37.80           -122.44  \n",
       "233            5    22        0            37.79           -122.40  "
      ]
     },
     "execution_count": 29,
     "metadata": {},
     "output_type": "execute_result"
    }
   ],
   "source": [
    "X_with_0_values.head()"
   ]
  },
  {
   "cell_type": "markdown",
   "metadata": {},
   "source": [
    "## Baseline calculation for latitude and longitude columns"
   ]
  },
  {
   "cell_type": "code",
   "execution_count": 30,
   "metadata": {},
   "outputs": [
    {
     "name": "stdout",
     "output_type": "stream",
     "text": [
      "baseline_rmse_latitude : 0.04644259288677541\n"
     ]
    }
   ],
   "source": [
    "print('baseline_rmse_latitude :', mean_squared_error(X_with_0_values['target_latitude'],X_with_0_values['latitude'],squared=False)) "
   ]
  },
  {
   "cell_type": "code",
   "execution_count": 31,
   "metadata": {
    "scrolled": true
   },
   "outputs": [
    {
     "name": "stdout",
     "output_type": "stream",
     "text": [
      "baseline_rmse_longitude : 0.028691296837154136\n"
     ]
    }
   ],
   "source": [
    "print('baseline_rmse_longitude :', mean_squared_error(X_with_0_values['target_longitude'],X_with_0_values['longitude'],squared=False)) "
   ]
  },
  {
   "cell_type": "markdown",
   "metadata": {},
   "source": [
    "## Baseline Calculation for distance point of view"
   ]
  },
  {
   "cell_type": "code",
   "execution_count": 32,
   "metadata": {},
   "outputs": [],
   "source": [
    "#this time this function will be used to calculate distances between actual coordinates and prediction coordinates\n",
    "def distance(lat1, lat2, lon1, lon2):\n",
    "     \n",
    "    lon1 = radians(lon1)\n",
    "    lon2 = radians(lon2)\n",
    "    lat1 = radians(lat1)\n",
    "    lat2 = radians(lat2)\n",
    "      \n",
    "    dlon = lon2 - lon1\n",
    "    dlat = lat2 - lat1\n",
    "    a = sin(dlat / 2)**2 + cos(lat1) * cos(lat2) * sin(dlon / 2)**2\n",
    "    c = 2 * asin(sqrt(a))    \n",
    "    r = 3959\n",
    "\n",
    "    return(c * r)"
   ]
  },
  {
   "cell_type": "code",
   "execution_count": 33,
   "metadata": {},
   "outputs": [],
   "source": [
    "#this time this function will be used to calculate distances between actual coordinates and prediction coordinates\n",
    "def miles_calculate(df1,df2):\n",
    "    miles_df = pd.concat([df1[['target_latitude','target_longitude']].reset_index(),\n",
    "                         df2[['latitude','longitude']].reset_index()],axis=1).drop('index',axis=1)\n",
    "    miles_df['distance_miles'] = [distance(x[0],x[2],x[1],x[3]) for x in miles_df.values]\n",
    "    return miles_df.distance_miles.mean()"
   ]
  },
  {
   "cell_type": "code",
   "execution_count": 34,
   "metadata": {},
   "outputs": [
    {
     "name": "stdout",
     "output_type": "stream",
     "text": [
      "baseline in miles :  1.5819636484579473\n"
     ]
    }
   ],
   "source": [
    "print('baseline in miles : ',miles_calculate(X_with_0_values,X_with_0_values))"
   ]
  },
  {
   "cell_type": "markdown",
   "metadata": {},
   "source": [
    "## 2.1 Modelling with ANN for multi target Regression Model"
   ]
  },
  {
   "cell_type": "code",
   "execution_count": 35,
   "metadata": {},
   "outputs": [],
   "source": [
    "y = X_with_0_values[['target_latitude','target_longitude']]\n",
    "X_with_0_values = X_with_0_values[['latitude', 'longitude','taxi_id','day_of_week', 'hour','holiday']]"
   ]
  },
  {
   "cell_type": "code",
   "execution_count": 36,
   "metadata": {},
   "outputs": [],
   "source": [
    "X_train, X_test, y_train, y_test = train_test_split(X_with_0_values, y, test_size=0.20, random_state=42)"
   ]
  },
  {
   "cell_type": "code",
   "execution_count": 37,
   "metadata": {},
   "outputs": [],
   "source": [
    "labelencoder2 = LabelEncoder()\n",
    "X_train['taxi_id'] = labelencoder2.fit_transform(X_train['taxi_id'])"
   ]
  },
  {
   "cell_type": "code",
   "execution_count": 38,
   "metadata": {},
   "outputs": [],
   "source": [
    "sc_1=StandardScaler()\n",
    "sc_1.fit(X_train)\n",
    "X_train_scaled=pd.DataFrame(sc_1.fit_transform(X_train))"
   ]
  },
  {
   "cell_type": "code",
   "execution_count": 39,
   "metadata": {
    "scrolled": true
   },
   "outputs": [
    {
     "name": "stderr",
     "output_type": "stream",
     "text": [
      "Using TensorFlow backend.\n"
     ]
    },
    {
     "name": "stdout",
     "output_type": "stream",
     "text": [
      "WARNING:tensorflow:From /Users/tolgacan/anaconda3/lib/python3.7/site-packages/keras/backend/tensorflow_backend.py:74: The name tf.get_default_graph is deprecated. Please use tf.compat.v1.get_default_graph instead.\n",
      "\n",
      "WARNING:tensorflow:From /Users/tolgacan/anaconda3/lib/python3.7/site-packages/keras/optimizers.py:790: The name tf.train.Optimizer is deprecated. Please use tf.compat.v1.train.Optimizer instead.\n",
      "\n",
      "Epoch 1/100\n",
      "370685/370685 [==============================] - 8s 21us/step - loss: 85.4472\n",
      "Epoch 2/100\n",
      "370685/370685 [==============================] - 9s 23us/step - loss: 0.0395: 0\n",
      "Epoch 3/100\n",
      "370685/370685 [==============================] - 7s 19us/step - loss: 0.0228\n",
      "Epoch 4/100\n",
      "370685/370685 [==============================] - 8s 22us/step - loss: 0.0160\n",
      "Epoch 5/100\n",
      "370685/370685 [==============================] - 8s 22us/step - loss: 0.0128: 0s - \n",
      "Epoch 6/100\n",
      "370685/370685 [==============================] - 7s 19us/step - loss: 0.0131\n",
      "Epoch 7/100\n",
      "370685/370685 [==============================] - 8s 21us/step - loss: 0.0088\n",
      "Epoch 8/100\n",
      "370685/370685 [==============================] - 8s 22us/step - loss: 0.0083: 0s - los\n",
      "Epoch 9/100\n",
      "370685/370685 [==============================] - 9s 25us/step - loss: 0.0084\n",
      "Epoch 10/100\n",
      "370685/370685 [==============================] - 8s 23us/step - loss: 0.0068\n",
      "Epoch 11/100\n",
      "370685/370685 [==============================] - 8s 22us/step - loss: 0.0079\n",
      "Epoch 12/100\n",
      "370685/370685 [==============================] - 8s 20us/step - loss: 0.0055\n",
      "Epoch 13/100\n",
      "370685/370685 [==============================] - 7s 20us/step - loss: 0.0055\n",
      "Epoch 14/100\n",
      "370685/370685 [==============================] - 8s 20us/step - loss: 0.0049\n",
      "Epoch 15/100\n",
      "370685/370685 [==============================] - 8s 22us/step - loss: 0.0050\n",
      "Epoch 16/100\n",
      "370685/370685 [==============================] - 8s 21us/step - loss: 0.0050\n",
      "Epoch 17/100\n",
      "370685/370685 [==============================] - 8s 21us/step - loss: 0.0049\n",
      "Epoch 18/100\n",
      "370685/370685 [==============================] - 8s 21us/step - loss: 0.0048\n",
      "Epoch 19/100\n",
      "370685/370685 [==============================] - 8s 22us/step - loss: 0.0042\n",
      "Epoch 20/100\n",
      "370685/370685 [==============================] - 8s 22us/step - loss: 0.0044\n",
      "Epoch 21/100\n",
      "370685/370685 [==============================] - 8s 22us/step - loss: 0.0047\n",
      "Epoch 22/100\n",
      "370685/370685 [==============================] - 8s 22us/step - loss: 0.0042\n",
      "Epoch 23/100\n",
      "370685/370685 [==============================] - 8s 22us/step - loss: 0.0045\n",
      "Epoch 24/100\n",
      "370685/370685 [==============================] - 8s 22us/step - loss: 0.0048\n",
      "Epoch 25/100\n",
      "370685/370685 [==============================] - 8s 22us/step - loss: 0.0044\n",
      "Epoch 26/100\n",
      "370685/370685 [==============================] - 7s 20us/step - loss: 0.0050\n",
      "Epoch 27/100\n",
      "370685/370685 [==============================] - 8s 20us/step - loss: 0.0038\n",
      "Epoch 28/100\n",
      "370685/370685 [==============================] - 8s 20us/step - loss: 0.0037\n",
      "Epoch 29/100\n",
      "370685/370685 [==============================] - 7s 20us/step - loss: 0.0044\n",
      "Epoch 30/100\n",
      "370685/370685 [==============================] - 8s 21us/step - loss: 0.0045\n",
      "Epoch 31/100\n",
      "370685/370685 [==============================] - 8s 21us/step - loss: 0.0044\n",
      "Epoch 32/100\n",
      "370685/370685 [==============================] - 7s 20us/step - loss: 0.0041\n",
      "Epoch 33/100\n",
      "370685/370685 [==============================] - 7s 20us/step - loss: 0.0039\n",
      "Epoch 34/100\n",
      "370685/370685 [==============================] - 7s 20us/step - loss: 0.0041\n",
      "Epoch 35/100\n",
      "370685/370685 [==============================] - 7s 20us/step - loss: 0.0040\n",
      "Epoch 36/100\n",
      "370685/370685 [==============================] - 7s 20us/step - loss: 0.0039\n",
      "Epoch 37/100\n",
      "370685/370685 [==============================] - 7s 20us/step - loss: 0.0035\n",
      "Epoch 38/100\n",
      "370685/370685 [==============================] - 7s 20us/step - loss: 0.0042\n",
      "Epoch 39/100\n",
      "370685/370685 [==============================] - 7s 20us/step - loss: 0.0043\n",
      "Epoch 40/100\n",
      "370685/370685 [==============================] - 7s 20us/step - loss: 0.0041\n",
      "Epoch 41/100\n",
      "370685/370685 [==============================] - 8s 20us/step - loss: 0.0034\n",
      "Epoch 42/100\n",
      "370685/370685 [==============================] - 7s 20us/step - loss: 0.0034\n",
      "Epoch 43/100\n",
      "370685/370685 [==============================] - 8s 21us/step - loss: 0.0043\n",
      "Epoch 44/100\n",
      "370685/370685 [==============================] - 8s 20us/step - loss: 0.0034\n",
      "Epoch 45/100\n",
      "370685/370685 [==============================] - 7s 20us/step - loss: 0.0046\n",
      "Epoch 46/100\n",
      "370685/370685 [==============================] - 8s 22us/step - loss: 0.0034\n",
      "Epoch 47/100\n",
      "370685/370685 [==============================] - 8s 21us/step - loss: 0.0037\n",
      "Epoch 48/100\n",
      "370685/370685 [==============================] - 8s 21us/step - loss: 0.0032\n",
      "Epoch 49/100\n",
      "370685/370685 [==============================] - 9s 23us/step - loss: 0.0037\n",
      "Epoch 50/100\n",
      "370685/370685 [==============================] - 8s 23us/step - loss: 0.0035\n",
      "Epoch 51/100\n",
      "370685/370685 [==============================] - 8s 20us/step - loss: 0.0038\n",
      "Epoch 52/100\n",
      "370685/370685 [==============================] - 8s 21us/step - loss: 0.0035\n",
      "Epoch 53/100\n",
      "370685/370685 [==============================] - 7s 20us/step - loss: 0.0036\n",
      "Epoch 54/100\n",
      "370685/370685 [==============================] - 8s 22us/step - loss: 0.0033\n",
      "Epoch 55/100\n",
      "370685/370685 [==============================] - 8s 20us/step - loss: 0.0034\n",
      "Epoch 56/100\n",
      "370685/370685 [==============================] - 9s 23us/step - loss: 0.0034: 0s\n",
      "Epoch 57/100\n",
      "370685/370685 [==============================] - 8s 23us/step - loss: 0.0033\n",
      "Epoch 58/100\n",
      "370685/370685 [==============================] - 8s 23us/step - loss: 0.0037\n",
      "Epoch 59/100\n",
      "370685/370685 [==============================] - 8s 23us/step - loss: 0.0034\n",
      "Epoch 60/100\n",
      "370685/370685 [==============================] - 8s 22us/step - loss: 0.0032\n",
      "Epoch 61/100\n",
      "370685/370685 [==============================] - 9s 23us/step - loss: 0.0032\n",
      "Epoch 62/100\n",
      "370685/370685 [==============================] - 8s 22us/step - loss: 0.0033\n",
      "Epoch 63/100\n",
      "370685/370685 [==============================] - 8s 21us/step - loss: 0.0031\n",
      "Epoch 64/100\n",
      "370685/370685 [==============================] - 8s 23us/step - loss: 0.0035\n",
      "Epoch 65/100\n",
      "370685/370685 [==============================] - 8s 23us/step - loss: 0.0032\n",
      "Epoch 66/100\n",
      "370685/370685 [==============================] - 8s 22us/step - loss: 0.0035\n",
      "Epoch 67/100\n",
      "370685/370685 [==============================] - 8s 23us/step - loss: 0.0034\n",
      "Epoch 68/100\n",
      "370685/370685 [==============================] - 8s 23us/step - loss: 0.0033\n",
      "Epoch 69/100\n",
      "370685/370685 [==============================] - 8s 23us/step - loss: 0.0031\n",
      "Epoch 70/100\n",
      "370685/370685 [==============================] - 8s 23us/step - loss: 0.0031: 0s - los\n",
      "Epoch 71/100\n",
      "370685/370685 [==============================] - 8s 23us/step - loss: 0.0031\n",
      "Epoch 72/100\n",
      "370685/370685 [==============================] - 8s 23us/step - loss: 0.0036\n",
      "Epoch 73/100\n",
      "370685/370685 [==============================] - 8s 23us/step - loss: 0.0033\n",
      "Epoch 74/100\n",
      "370685/370685 [==============================] - 9s 23us/step - loss: 0.0032: 0s - loss:\n",
      "Epoch 75/100\n",
      "370685/370685 [==============================] - 8s 23us/step - loss: 0.0030\n",
      "Epoch 76/100\n",
      "370685/370685 [==============================] - 8s 23us/step - loss: 0.0032\n",
      "Epoch 77/100\n",
      "370685/370685 [==============================] - 8s 23us/step - loss: 0.0033\n",
      "Epoch 78/100\n",
      "370685/370685 [==============================] - 8s 22us/step - loss: 0.0033\n",
      "Epoch 79/100\n",
      "370685/370685 [==============================] - 8s 22us/step - loss: 0.0032\n",
      "Epoch 80/100\n",
      "370685/370685 [==============================] - 8s 23us/step - loss: 0.0031\n",
      "Epoch 81/100\n",
      "370685/370685 [==============================] - 8s 22us/step - loss: 0.0035\n",
      "Epoch 82/100\n",
      "370685/370685 [==============================] - 8s 22us/step - loss: 0.0033\n",
      "Epoch 83/100\n",
      "370685/370685 [==============================] - 8s 23us/step - loss: 0.0033\n",
      "Epoch 84/100\n",
      "370685/370685 [==============================] - 8s 23us/step - loss: 0.0030\n",
      "Epoch 85/100\n",
      "370685/370685 [==============================] - 8s 22us/step - loss: 0.0029\n",
      "Epoch 86/100\n",
      "370685/370685 [==============================] - 8s 22us/step - loss: 0.0032\n",
      "Epoch 87/100\n"
     ]
    },
    {
     "name": "stdout",
     "output_type": "stream",
     "text": [
      "370685/370685 [==============================] - 7s 18us/step - loss: 0.0033\n",
      "Epoch 88/100\n",
      "370685/370685 [==============================] - 7s 18us/step - loss: 0.0029\n",
      "Epoch 89/100\n",
      "370685/370685 [==============================] - 7s 18us/step - loss: 0.0030\n",
      "Epoch 90/100\n",
      "370685/370685 [==============================] - 7s 18us/step - loss: 0.0030\n",
      "Epoch 91/100\n",
      "370685/370685 [==============================] - 7s 19us/step - loss: 0.0032\n",
      "Epoch 92/100\n",
      "370685/370685 [==============================] - 7s 18us/step - loss: 0.0029\n",
      "Epoch 93/100\n",
      "370685/370685 [==============================] - 7s 18us/step - loss: 0.0036\n",
      "Epoch 94/100\n",
      "370685/370685 [==============================] - 7s 18us/step - loss: 0.0030\n",
      "Epoch 95/100\n",
      "370685/370685 [==============================] - 7s 18us/step - loss: 0.0029\n",
      "Epoch 96/100\n",
      "370685/370685 [==============================] - 7s 18us/step - loss: 0.0030\n",
      "Epoch 97/100\n",
      "370685/370685 [==============================] - 7s 18us/step - loss: 0.0029\n",
      "Epoch 98/100\n",
      "370685/370685 [==============================] - 7s 18us/step - loss: 0.0033\n",
      "Epoch 99/100\n",
      "370685/370685 [==============================] - 7s 18us/step - loss: 0.0028\n",
      "Epoch 100/100\n",
      "370685/370685 [==============================] - 7s 18us/step - loss: 0.0030\n"
     ]
    },
    {
     "data": {
      "text/plain": [
       "<keras.callbacks.History at 0x7fccaf31d710>"
      ]
     },
     "execution_count": 39,
     "metadata": {},
     "output_type": "execute_result"
    }
   ],
   "source": [
    "from keras.models import Sequential\n",
    "from keras.layers import Dense\n",
    "from numpy.random import seed\n",
    "seed(42)\n",
    "from tensorflow import set_random_seed\n",
    "set_random_seed(2)\n",
    "\n",
    "model = Sequential()\n",
    "model.add(Dense(1000, input_dim=6, kernel_initializer='he_uniform', activation='relu'))\n",
    "model.add(Dense(2))\n",
    "model.compile(loss='mse', optimizer='adam')\n",
    "model.fit(X_train_scaled, y_train, verbose=1, epochs=100,)"
   ]
  },
  {
   "cell_type": "code",
   "execution_count": 40,
   "metadata": {},
   "outputs": [],
   "source": [
    "X_test['taxi_id'] = labelencoder2.transform(X_test['taxi_id'])\n",
    "X_test_scaled=pd.DataFrame(sc_1.transform(X_test))\n",
    "predictions= pd.DataFrame(model.predict(X_test_scaled))\n",
    "predictions.columns= ['latitude','longitude']"
   ]
  },
  {
   "cell_type": "code",
   "execution_count": 41,
   "metadata": {},
   "outputs": [
    {
     "data": {
      "text/plain": [
       "0.040113221773122494"
      ]
     },
     "execution_count": 41,
     "metadata": {},
     "output_type": "execute_result"
    }
   ],
   "source": [
    "mean_squared_error(y_test['target_latitude'],predictions['latitude'],squared=False)"
   ]
  },
  {
   "cell_type": "code",
   "execution_count": 42,
   "metadata": {},
   "outputs": [
    {
     "data": {
      "text/plain": [
       "0.057315856732215856"
      ]
     },
     "execution_count": 42,
     "metadata": {},
     "output_type": "execute_result"
    }
   ],
   "source": [
    "mean_squared_error(y_test['target_longitude'],predictions['longitude'],squared=False)"
   ]
  },
  {
   "cell_type": "code",
   "execution_count": 43,
   "metadata": {},
   "outputs": [
    {
     "data": {
      "text/plain": [
       "3.096218269838457"
      ]
     },
     "execution_count": 43,
     "metadata": {},
     "output_type": "execute_result"
    }
   ],
   "source": [
    "miles_calculate(y_test,predictions)"
   ]
  },
  {
   "cell_type": "markdown",
   "metadata": {},
   "source": [
    "## 2.2 Modelling with KNeigborsRegressor for multi target Regression Model"
   ]
  },
  {
   "cell_type": "code",
   "execution_count": 44,
   "metadata": {},
   "outputs": [
    {
     "data": {
      "text/plain": [
       "KNeighborsRegressor(algorithm='auto', leaf_size=30, metric='minkowski',\n",
       "                    metric_params=None, n_jobs=None, n_neighbors=5, p=2,\n",
       "                    weights='uniform')"
      ]
     },
     "execution_count": 44,
     "metadata": {},
     "output_type": "execute_result"
    }
   ],
   "source": [
    "from sklearn.neighbors import KNeighborsRegressor\n",
    "model = KNeighborsRegressor()\n",
    "model.fit(X_train_scaled, y_train)"
   ]
  },
  {
   "cell_type": "code",
   "execution_count": 45,
   "metadata": {},
   "outputs": [],
   "source": [
    "predictions = pd.DataFrame(model.predict(X_test_scaled))\n",
    "predictions.columns= ['latitude','longitude']\n"
   ]
  },
  {
   "cell_type": "code",
   "execution_count": 46,
   "metadata": {
    "scrolled": true
   },
   "outputs": [
    {
     "data": {
      "text/plain": [
       "0.03746485807352835"
      ]
     },
     "execution_count": 46,
     "metadata": {},
     "output_type": "execute_result"
    }
   ],
   "source": [
    "mean_squared_error(y_test['target_latitude'],predictions['latitude'],squared=False)"
   ]
  },
  {
   "cell_type": "code",
   "execution_count": 47,
   "metadata": {},
   "outputs": [
    {
     "data": {
      "text/plain": [
       "0.01693711965180167"
      ]
     },
     "execution_count": 47,
     "metadata": {},
     "output_type": "execute_result"
    }
   ],
   "source": [
    "mean_squared_error(y_test['target_longitude'],predictions['longitude'],squared=False)"
   ]
  },
  {
   "cell_type": "code",
   "execution_count": 48,
   "metadata": {},
   "outputs": [
    {
     "data": {
      "text/plain": [
       "1.530106695193259"
      ]
     },
     "execution_count": 48,
     "metadata": {},
     "output_type": "execute_result"
    }
   ],
   "source": [
    "miles_calculate(y_test,predictions)"
   ]
  },
  {
   "cell_type": "markdown",
   "metadata": {},
   "source": [
    "## 2.3 Modelling with Decision Tree Regressor for multi target Regression Model"
   ]
  },
  {
   "cell_type": "code",
   "execution_count": 49,
   "metadata": {
    "scrolled": true
   },
   "outputs": [
    {
     "data": {
      "text/plain": [
       "DecisionTreeRegressor(ccp_alpha=0.0, criterion='mse', max_depth=None,\n",
       "                      max_features=None, max_leaf_nodes=None,\n",
       "                      min_impurity_decrease=0.0, min_impurity_split=None,\n",
       "                      min_samples_leaf=1, min_samples_split=2,\n",
       "                      min_weight_fraction_leaf=0.0, presort='deprecated',\n",
       "                      random_state=42, splitter='best')"
      ]
     },
     "execution_count": 49,
     "metadata": {},
     "output_type": "execute_result"
    }
   ],
   "source": [
    "from sklearn.tree import DecisionTreeRegressor\n",
    "model = DecisionTreeRegressor(random_state=42)\n",
    "model.fit(X_train_scaled, y_train)"
   ]
  },
  {
   "cell_type": "code",
   "execution_count": 50,
   "metadata": {},
   "outputs": [],
   "source": [
    "predictions = pd.DataFrame(model.predict(X_test_scaled))\n",
    "predictions.columns= ['latitude','longitude']\n",
    "\n"
   ]
  },
  {
   "cell_type": "code",
   "execution_count": 51,
   "metadata": {},
   "outputs": [
    {
     "data": {
      "text/plain": [
       "0.046805921258303476"
      ]
     },
     "execution_count": 51,
     "metadata": {},
     "output_type": "execute_result"
    }
   ],
   "source": [
    "mean_squared_error(y_test['target_latitude'],predictions['latitude'],squared=False)"
   ]
  },
  {
   "cell_type": "code",
   "execution_count": 52,
   "metadata": {},
   "outputs": [
    {
     "data": {
      "text/plain": [
       "0.022206855458109877"
      ]
     },
     "execution_count": 52,
     "metadata": {},
     "output_type": "execute_result"
    }
   ],
   "source": [
    "mean_squared_error(y_test['target_longitude'],predictions['longitude'],squared=False)"
   ]
  },
  {
   "cell_type": "code",
   "execution_count": 53,
   "metadata": {},
   "outputs": [
    {
     "data": {
      "text/plain": [
       "1.8783097213967614"
      ]
     },
     "execution_count": 53,
     "metadata": {},
     "output_type": "execute_result"
    }
   ],
   "source": [
    "miles_calculate(y_test,predictions)"
   ]
  },
  {
   "cell_type": "markdown",
   "metadata": {},
   "source": [
    "# 3. Single Target Regression Model"
   ]
  },
  {
   "cell_type": "markdown",
   "metadata": {},
   "source": [
    "### 3.1 Baseline LGBM Model for Single Output"
   ]
  },
  {
   "cell_type": "code",
   "execution_count": 54,
   "metadata": {},
   "outputs": [
    {
     "name": "stdout",
     "output_type": "stream",
     "text": [
      "Lightgbm Baseline RMSE for Latitude : 0.03398591001725549\n"
     ]
    }
   ],
   "source": [
    "hyperparam_dict = {\n",
    "    'max_depth' : 10,\n",
    "    'n_estimators' : 100,\n",
    "    'num_leaves' : 150,\n",
    "    'learning_rate' : 0.01,\n",
    "    'objective' : 'regression',\n",
    "    'n_jobs' : -1,\n",
    "    'subsample' : 0.7,\n",
    "    'random_state' : 42\n",
    "    \n",
    "}\n",
    "\n",
    "y_train_lat = y_train['target_latitude']\n",
    "y_test_lat = y_test['target_latitude']\n",
    "\n",
    "model = lgb.LGBMRegressor(**hyperparam_dict)\n",
    "model.fit(X_train, y_train_lat, eval_set=[(X_test, y_test_lat)], early_stopping_rounds=10, verbose=0)\n",
    "\n",
    "y_preds_lat = model.predict(X_test)\n",
    "print('Lightgbm Baseline RMSE for Latitude :', mean_squared_error(y_test_lat, y_preds_lat, squared=False))"
   ]
  },
  {
   "cell_type": "code",
   "execution_count": 55,
   "metadata": {},
   "outputs": [
    {
     "name": "stdout",
     "output_type": "stream",
     "text": [
      "Lightgbm Baseline RMSE for Longitude: 0.016408281448564724\n"
     ]
    }
   ],
   "source": [
    "hyperparam_dict = {\n",
    "    'max_depth' : 10,\n",
    "    'n_estimators' : 100,\n",
    "    'num_leaves' : 150,\n",
    "    'learning_rate' : 0.01,\n",
    "    'objective' : 'regression',\n",
    "    'n_jobs' : -1,\n",
    "    'subsample' : 0.7,\n",
    "    'random_state' : 42\n",
    "    \n",
    "}\n",
    "\n",
    "y_train_lon = y_train['target_longitude']\n",
    "y_test_lon = y_test['target_longitude']\n",
    "\n",
    "model = lgb.LGBMRegressor(**hyperparam_dict)\n",
    "model.fit(X_train, y_train_lon, eval_set=[(X_test, y_test_lon)], early_stopping_rounds=10, verbose=0)\n",
    "\n",
    "y_preds_lon = model.predict(X_test)\n",
    "print('Lightgbm Baseline RMSE for Longitude:', mean_squared_error(y_test_lon, y_preds_lon, squared=False))"
   ]
  },
  {
   "cell_type": "markdown",
   "metadata": {},
   "source": [
    "### 3.2 Parameter seach for LGBM Latitude model"
   ]
  },
  {
   "cell_type": "code",
   "execution_count": 56,
   "metadata": {
    "scrolled": true
   },
   "outputs": [
    {
     "data": {
      "text/plain": [
       "GridSearchCV(cv=5, error_score=nan,\n",
       "             estimator=LGBMRegressor(boosting_type='gbdt', class_weight=None,\n",
       "                                     colsample_bytree=1.0,\n",
       "                                     importance_type='split', learning_rate=0.1,\n",
       "                                     max_depth=-1, min_child_samples=20,\n",
       "                                     min_child_weight=0.001, min_split_gain=0.0,\n",
       "                                     n_estimators=100, n_jobs=-1, num_leaves=31,\n",
       "                                     objective='regression', random_state=42,\n",
       "                                     reg_alpha=0.0, reg_lambda=0.0, silent=True,\n",
       "                                     subsample=1.0, subsample_for_bin=200000,\n",
       "                                     subsample_freq=0),\n",
       "             iid='deprecated', n_jobs=None,\n",
       "             param_grid={'learning_rate': [0.001, 0.005, 0.01, 0.1],\n",
       "                         'max_depth': [2, 5, 10],\n",
       "                         'n_estimators': [100, 200, 500],\n",
       "                         'num_leaves': [50, 100], 'subsample': [0.7]},\n",
       "             pre_dispatch='2*n_jobs', refit=True, return_train_score=False,\n",
       "             scoring='neg_root_mean_squared_error', verbose=0)"
      ]
     },
     "execution_count": 56,
     "metadata": {},
     "output_type": "execute_result"
    }
   ],
   "source": [
    "params_dict = {'max_depth' : [2,5,10],\n",
    "              'n_estimators' : [100,200,500],\n",
    "              'learning_rate' : [0.001, 0.005, 0.01, 0.1],\n",
    "              'num_leaves' : [50,100],\n",
    "              'subsample' : [0.7]\n",
    "              }\n",
    "\n",
    "model = lgb.LGBMRegressor(n_jobs=-1, objective='regression',random_state=42)\n",
    "\n",
    "grid_search = GridSearchCV(model, param_grid=params_dict, cv=5, verbose=0, scoring=\"neg_root_mean_squared_error\")\n",
    "grid_search.fit(X_train,y_train_lat)"
   ]
  },
  {
   "cell_type": "code",
   "execution_count": 57,
   "metadata": {},
   "outputs": [
    {
     "data": {
      "text/plain": [
       "{'learning_rate': 0.1,\n",
       " 'max_depth': 5,\n",
       " 'n_estimators': 200,\n",
       " 'num_leaves': 50,\n",
       " 'subsample': 0.7}"
      ]
     },
     "execution_count": 57,
     "metadata": {},
     "output_type": "execute_result"
    }
   ],
   "source": [
    "grid_search.best_params_"
   ]
  },
  {
   "cell_type": "markdown",
   "metadata": {},
   "source": [
    "### Final Score on test set for latitude"
   ]
  },
  {
   "cell_type": "code",
   "execution_count": 58,
   "metadata": {},
   "outputs": [
    {
     "name": "stdout",
     "output_type": "stream",
     "text": [
      "Lightgbm Final Rmse for Latitude: 0.03220917938297847\n"
     ]
    }
   ],
   "source": [
    "hyperparam_dict = {\n",
    "    'max_depth' : 5,\n",
    "    'n_estimators' : 200,\n",
    "    'num_leaves' : 50,\n",
    "    'learning_rate' : 0.1,\n",
    "    'objective' : 'regression',\n",
    "    'n_jobs' : -1,\n",
    "    'subsample' : 0.7,\n",
    "    'random_state' : 42\n",
    "    \n",
    "}\n",
    "\n",
    "model = lgb.LGBMRegressor(**hyperparam_dict)\n",
    "\n",
    "model.fit(X_train, y_train_lat, eval_set=[(X_test, y_test_lat)], early_stopping_rounds=10, verbose=0)\n",
    "\n",
    "y_preds_lat = model.predict(X_test)\n",
    "\n",
    "print('Lightgbm Final Rmse for Latitude:', mean_squared_error(y_test_lat, y_preds_lat, squared=False))"
   ]
  },
  {
   "cell_type": "markdown",
   "metadata": {},
   "source": [
    "### 3.3 Parameter seach for LGBM Longitude model"
   ]
  },
  {
   "cell_type": "code",
   "execution_count": 59,
   "metadata": {},
   "outputs": [
    {
     "data": {
      "text/plain": [
       "GridSearchCV(cv=5, error_score=nan,\n",
       "             estimator=LGBMRegressor(boosting_type='gbdt', class_weight=None,\n",
       "                                     colsample_bytree=1.0,\n",
       "                                     importance_type='split', learning_rate=0.1,\n",
       "                                     max_depth=-1, min_child_samples=20,\n",
       "                                     min_child_weight=0.001, min_split_gain=0.0,\n",
       "                                     n_estimators=100, n_jobs=-1, num_leaves=31,\n",
       "                                     objective='regression', random_state=42,\n",
       "                                     reg_alpha=0.0, reg_lambda=0.0, silent=True,\n",
       "                                     subsample=1.0, subsample_for_bin=200000,\n",
       "                                     subsample_freq=0),\n",
       "             iid='deprecated', n_jobs=None,\n",
       "             param_grid={'learning_rate': [0.001, 0.005, 0.01, 0.1],\n",
       "                         'max_depth': [2, 5, 10],\n",
       "                         'n_estimators': [100, 200, 500],\n",
       "                         'num_leaves': [50, 100], 'subsample': [0.7]},\n",
       "             pre_dispatch='2*n_jobs', refit=True, return_train_score=False,\n",
       "             scoring='neg_root_mean_squared_error', verbose=0)"
      ]
     },
     "execution_count": 59,
     "metadata": {},
     "output_type": "execute_result"
    }
   ],
   "source": [
    "params_dict = {'max_depth' : [2,5,10],\n",
    "              'n_estimators' : [100,200,500],\n",
    "              'learning_rate' : [0.001, 0.005, 0.01, 0.1],\n",
    "              'num_leaves' : [50,100],\n",
    "              'subsample' : [0.7]\n",
    "              }\n",
    "\n",
    "model = lgb.LGBMRegressor(n_jobs=-1, objective='regression',random_state=42)\n",
    "\n",
    "grid_search = GridSearchCV(model, param_grid=params_dict, cv=5, verbose=0, scoring=\"neg_root_mean_squared_error\")\n",
    "grid_search.fit(X_train,y_train_lon)"
   ]
  },
  {
   "cell_type": "code",
   "execution_count": 60,
   "metadata": {},
   "outputs": [
    {
     "data": {
      "text/plain": [
       "{'learning_rate': 0.1,\n",
       " 'max_depth': 10,\n",
       " 'n_estimators': 100,\n",
       " 'num_leaves': 100,\n",
       " 'subsample': 0.7}"
      ]
     },
     "execution_count": 60,
     "metadata": {},
     "output_type": "execute_result"
    }
   ],
   "source": [
    "grid_search.best_params_"
   ]
  },
  {
   "cell_type": "markdown",
   "metadata": {},
   "source": [
    "###  LIGHT GBM Final Score on test set for longitude"
   ]
  },
  {
   "cell_type": "code",
   "execution_count": 62,
   "metadata": {},
   "outputs": [
    {
     "name": "stdout",
     "output_type": "stream",
     "text": [
      "Lightgbm Final Rmse for Longitude: 0.015375707149568244\n"
     ]
    }
   ],
   "source": [
    "hyperparam_dict = {\n",
    "    'max_depth' : 10,\n",
    "    'n_estimators' : 200,\n",
    "    'num_leaves' : 100,\n",
    "    'learning_rate' : 0.1,\n",
    "    'objective' : 'regression',\n",
    "    'n_jobs' : -1,\n",
    "    'subsample' : 0.7,\n",
    "    'random_state' : 42\n",
    "    \n",
    "}\n",
    "\n",
    "model = lgb.LGBMRegressor(**hyperparam_dict)\n",
    "\n",
    "model.fit(X_train, y_train_lon, eval_set=[(X_test, y_test_lon)], early_stopping_rounds=10, verbose=0)\n",
    "\n",
    "y_preds_lon = model.predict(X_test)\n",
    "\n",
    "print('Lightgbm Final Rmse for Longitude:', mean_squared_error(y_test_lon, y_preds_lon, squared=False))"
   ]
  },
  {
   "cell_type": "code",
   "execution_count": 63,
   "metadata": {},
   "outputs": [],
   "source": [
    "predictions = pd.concat([pd.DataFrame(y_preds_lat),pd.DataFrame(y_preds_lon)],axis=1)\n",
    "predictions.columns= ['latitude','longitude']"
   ]
  },
  {
   "cell_type": "code",
   "execution_count": 64,
   "metadata": {},
   "outputs": [
    {
     "data": {
      "text/plain": [
       "1.3290029958933223"
      ]
     },
     "execution_count": 64,
     "metadata": {},
     "output_type": "execute_result"
    }
   ],
   "source": [
    "miles_calculate(y_test,predictions)"
   ]
  },
  {
   "cell_type": "markdown",
   "metadata": {},
   "source": [
    "## Hyperparamater tuning for KNN Regressor"
   ]
  },
  {
   "cell_type": "markdown",
   "metadata": {},
   "source": [
    "As I found out most premising algorithm as KNN, I want to tune and see if it beats the score of LightGBM model"
   ]
  },
  {
   "cell_type": "code",
   "execution_count": 65,
   "metadata": {},
   "outputs": [
    {
     "data": {
      "text/plain": [
       "GridSearchCV(cv=5, error_score=nan,\n",
       "             estimator=KNeighborsRegressor(algorithm='auto', leaf_size=30,\n",
       "                                           metric='minkowski',\n",
       "                                           metric_params=None, n_jobs=-1,\n",
       "                                           n_neighbors=5, p=2,\n",
       "                                           weights='uniform'),\n",
       "             iid='deprecated', n_jobs=None,\n",
       "             param_grid={'n_neighbors': [20, 50, 100, 150, 200], 'p': [1, 2]},\n",
       "             pre_dispatch='2*n_jobs', refit=True, return_train_score=False,\n",
       "             scoring='neg_root_mean_squared_error', verbose=0)"
      ]
     },
     "execution_count": 65,
     "metadata": {},
     "output_type": "execute_result"
    }
   ],
   "source": [
    "params_dict = {'n_neighbors' : [20,50,100,150,200],\n",
    "              'p' : [1,2],\n",
    "              }\n",
    "\n",
    "model = KNeighborsRegressor(weights='uniform',n_jobs=-1)\n",
    "\n",
    "grid_search = GridSearchCV(model,param_grid=params_dict, cv=5, verbose=0, scoring=\"neg_root_mean_squared_error\")\n",
    "grid_search.fit(X_train_scaled, y_train)"
   ]
  },
  {
   "cell_type": "code",
   "execution_count": 66,
   "metadata": {
    "scrolled": true
   },
   "outputs": [
    {
     "data": {
      "text/plain": [
       "{'n_neighbors': 100, 'p': 1}"
      ]
     },
     "execution_count": 66,
     "metadata": {},
     "output_type": "execute_result"
    }
   ],
   "source": [
    "grid_search.best_params_"
   ]
  },
  {
   "cell_type": "code",
   "execution_count": 67,
   "metadata": {},
   "outputs": [
    {
     "name": "stdout",
     "output_type": "stream",
     "text": [
      "Rmse for Latitude: 0.03297677924536423\n",
      "Rmse for Longitude: 0.015548029682749025\n",
      "distance:  1.3638516618731569\n"
     ]
    }
   ],
   "source": [
    "model = KNeighborsRegressor(n_neighbors=100,p=1)\n",
    "model.fit(X_train_scaled, y_train)\n",
    "predictions = pd.DataFrame(model.predict(X_test_scaled))\n",
    "predictions.columns= ['latitude','longitude']\n",
    "\n",
    "print('Rmse for Latitude:',mean_squared_error(y_test['target_latitude'],predictions['latitude'],squared=False))\n",
    "print('Rmse for Longitude:',mean_squared_error(y_test['target_longitude'],predictions['longitude'],squared=False))\n",
    "print('distance: ',miles_calculate(y_test,predictions))"
   ]
  },
  {
   "cell_type": "markdown",
   "metadata": {},
   "source": [
    "# 5. FINAL MODEL"
   ]
  },
  {
   "cell_type": "code",
   "execution_count": 68,
   "metadata": {
    "scrolled": true
   },
   "outputs": [
    {
     "name": "stdout",
     "output_type": "stream",
     "text": [
      "Lightgbm Final Rmse for Latitude: 0.03220917938297847\n"
     ]
    }
   ],
   "source": [
    "hyperparam_dict = {\n",
    "    'max_depth' : 5,\n",
    "    'n_estimators' : 200,\n",
    "    'num_leaves' : 50,\n",
    "    'learning_rate' : 0.1,\n",
    "    'objective' : 'regression',\n",
    "    'n_jobs' : -1,\n",
    "    'subsample' : 0.7,\n",
    "    'random_state' : 42\n",
    "    \n",
    "}\n",
    "\n",
    "model = lgb.LGBMRegressor(**hyperparam_dict)\n",
    "\n",
    "model.fit(X_train, y_train_lat, eval_set=[(X_test, y_test_lat)], early_stopping_rounds=10, verbose=0)\n",
    "\n",
    "y_preds_lat = model.predict(X_test)\n",
    "\n",
    "print('Lightgbm Final Rmse for Latitude:', mean_squared_error(y_test_lat, y_preds_lat, squared=False))"
   ]
  },
  {
   "cell_type": "code",
   "execution_count": 69,
   "metadata": {},
   "outputs": [
    {
     "name": "stdout",
     "output_type": "stream",
     "text": [
      "Lightgbm Final Rmse for Longitude: 0.015375707149568244\n"
     ]
    }
   ],
   "source": [
    "hyperparam_dict = {\n",
    "    'max_depth' : 10,\n",
    "    'n_estimators' : 200,\n",
    "    'num_leaves' : 100,\n",
    "    'learning_rate' : 0.1,\n",
    "    'objective' : 'regression',\n",
    "    'n_jobs' : -1,\n",
    "    'subsample' : 0.7,\n",
    "    'random_state' : 42\n",
    "    \n",
    "}\n",
    "\n",
    "model = lgb.LGBMRegressor(**hyperparam_dict)\n",
    "\n",
    "model.fit(X_train, y_train_lon, eval_set=[(X_test, y_test_lon)], early_stopping_rounds=10, verbose=0)\n",
    "\n",
    "y_preds_lon = model.predict(X_test)\n",
    "\n",
    "print('Lightgbm Final Rmse for Longitude:', mean_squared_error(y_test_lon, y_preds_lon, squared=False))"
   ]
  },
  {
   "cell_type": "code",
   "execution_count": 70,
   "metadata": {},
   "outputs": [
    {
     "data": {
      "text/plain": [
       "1.3290029958933223"
      ]
     },
     "execution_count": 70,
     "metadata": {},
     "output_type": "execute_result"
    }
   ],
   "source": [
    "predictions = pd.concat([pd.DataFrame(y_preds_lat),pd.DataFrame(y_preds_lon)],axis=1)\n",
    "predictions.columns= ['latitude','longitude']\n",
    "miles_calculate(y_test,predictions)"
   ]
  },
  {
   "cell_type": "code",
   "execution_count": null,
   "metadata": {},
   "outputs": [],
   "source": []
  }
 ],
 "metadata": {
  "kernelspec": {
   "display_name": "Python 3",
   "language": "python",
   "name": "python3"
  },
  "language_info": {
   "codemirror_mode": {
    "name": "ipython",
    "version": 3
   },
   "file_extension": ".py",
   "mimetype": "text/x-python",
   "name": "python",
   "nbconvert_exporter": "python",
   "pygments_lexer": "ipython3",
   "version": "3.7.7"
  }
 },
 "nbformat": 4,
 "nbformat_minor": 4
}
