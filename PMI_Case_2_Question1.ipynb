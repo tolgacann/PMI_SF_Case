{
 "cells": [
  {
   "cell_type": "code",
   "execution_count": 1,
   "metadata": {},
   "outputs": [],
   "source": [
    "import pandas as pd\n",
    "import numpy as np\n",
    "from os import listdir\n",
    "from math import radians, cos, sin, asin, sqrt\n",
    "from datetime import datetime\n",
    "from matplotlib import pyplot as plt\n",
    "from sklearn.model_selection import train_test_split\n",
    "from sklearn.preprocessing import LabelEncoder\n",
    "from sklearn.metrics import confusion_matrix \n",
    "from sklearn.metrics import accuracy_score \n",
    "from sklearn.metrics import classification_report \n",
    "from sklearn.metrics import mean_squared_error\n",
    "from sklearn.preprocessing import StandardScaler"
   ]
  },
  {
   "cell_type": "markdown",
   "metadata": {},
   "source": [
    "### READ DATA"
   ]
  },
  {
   "cell_type": "code",
   "execution_count": 2,
   "metadata": {},
   "outputs": [],
   "source": [
    "all_df = pd.read_pickle('all_df.pkl')"
   ]
  },
  {
   "cell_type": "markdown",
   "metadata": {},
   "source": [
    "## Question 1"
   ]
  },
  {
   "cell_type": "markdown",
   "metadata": {},
   "source": [
    "We have data of San Francisco taxi cabs with 11 million rows. 538 taxi cab data is collected over a month period.\n",
    "\n",
    "\n",
    "Question 1 : \n",
    "To calculate the potential for a yearly reduction in CO2 emissions, caused by the taxi cabs roaming without passengers. In your calculation please assume that the taxicab fleet is changing at the rate of 15% per month (from combustion engine-powered vehicles to electric vehicles). Assume also that the average passenger vehicle emits about 404 grams of CO2 per mile."
   ]
  },
  {
   "cell_type": "code",
   "execution_count": 3,
   "metadata": {
    "scrolled": true
   },
   "outputs": [
    {
     "data": {
      "text/html": [
       "<div>\n",
       "<style scoped>\n",
       "    .dataframe tbody tr th:only-of-type {\n",
       "        vertical-align: middle;\n",
       "    }\n",
       "\n",
       "    .dataframe tbody tr th {\n",
       "        vertical-align: top;\n",
       "    }\n",
       "\n",
       "    .dataframe thead th {\n",
       "        text-align: right;\n",
       "    }\n",
       "</style>\n",
       "<table border=\"1\" class=\"dataframe\">\n",
       "  <thead>\n",
       "    <tr style=\"text-align: right;\">\n",
       "      <th></th>\n",
       "      <th>latitude</th>\n",
       "      <th>longitude</th>\n",
       "      <th>occupation</th>\n",
       "      <th>time</th>\n",
       "      <th>taxi_id</th>\n",
       "      <th>next_latitude</th>\n",
       "      <th>next_longitude</th>\n",
       "      <th>next_occupation_status</th>\n",
       "      <th>previous_occupation_status</th>\n",
       "      <th>next_time</th>\n",
       "      <th>distance_miles</th>\n",
       "      <th>target_column</th>\n",
       "      <th>day_of_week</th>\n",
       "      <th>hour</th>\n",
       "      <th>holiday</th>\n",
       "    </tr>\n",
       "  </thead>\n",
       "  <tbody>\n",
       "    <tr>\n",
       "      <th>0</th>\n",
       "      <td>37.79826</td>\n",
       "      <td>-122.26613</td>\n",
       "      <td>0</td>\n",
       "      <td>2008-05-17 17:25:37</td>\n",
       "      <td>new_adkavy</td>\n",
       "      <td>37.79596</td>\n",
       "      <td>-122.26824</td>\n",
       "      <td>0.0</td>\n",
       "      <td>NaN</td>\n",
       "      <td>1.211034e+09</td>\n",
       "      <td>0.196289</td>\n",
       "      <td>37.79-122.41</td>\n",
       "      <td>5</td>\n",
       "      <td>17</td>\n",
       "      <td>0</td>\n",
       "    </tr>\n",
       "    <tr>\n",
       "      <th>1</th>\n",
       "      <td>37.79596</td>\n",
       "      <td>-122.26824</td>\n",
       "      <td>0</td>\n",
       "      <td>2008-05-17 17:26:38</td>\n",
       "      <td>new_adkavy</td>\n",
       "      <td>37.80031</td>\n",
       "      <td>-122.27920</td>\n",
       "      <td>0.0</td>\n",
       "      <td>0.0</td>\n",
       "      <td>1.211034e+09</td>\n",
       "      <td>0.669654</td>\n",
       "      <td>37.79-122.41</td>\n",
       "      <td>5</td>\n",
       "      <td>17</td>\n",
       "      <td>0</td>\n",
       "    </tr>\n",
       "    <tr>\n",
       "      <th>2</th>\n",
       "      <td>37.80031</td>\n",
       "      <td>-122.27920</td>\n",
       "      <td>0</td>\n",
       "      <td>2008-05-17 17:27:47</td>\n",
       "      <td>new_adkavy</td>\n",
       "      <td>37.80219</td>\n",
       "      <td>-122.29588</td>\n",
       "      <td>0.0</td>\n",
       "      <td>0.0</td>\n",
       "      <td>1.211035e+09</td>\n",
       "      <td>0.919894</td>\n",
       "      <td>37.79-122.41</td>\n",
       "      <td>5</td>\n",
       "      <td>17</td>\n",
       "      <td>0</td>\n",
       "    </tr>\n",
       "    <tr>\n",
       "      <th>3</th>\n",
       "      <td>37.80219</td>\n",
       "      <td>-122.29588</td>\n",
       "      <td>0</td>\n",
       "      <td>2008-05-17 17:28:35</td>\n",
       "      <td>new_adkavy</td>\n",
       "      <td>37.81305</td>\n",
       "      <td>-122.30235</td>\n",
       "      <td>0.0</td>\n",
       "      <td>0.0</td>\n",
       "      <td>1.211035e+09</td>\n",
       "      <td>0.829372</td>\n",
       "      <td>37.79-122.41</td>\n",
       "      <td>5</td>\n",
       "      <td>17</td>\n",
       "      <td>0</td>\n",
       "    </tr>\n",
       "    <tr>\n",
       "      <th>4</th>\n",
       "      <td>37.81305</td>\n",
       "      <td>-122.30235</td>\n",
       "      <td>0</td>\n",
       "      <td>2008-05-17 17:29:35</td>\n",
       "      <td>new_adkavy</td>\n",
       "      <td>37.82369</td>\n",
       "      <td>-122.30235</td>\n",
       "      <td>0.0</td>\n",
       "      <td>0.0</td>\n",
       "      <td>1.211035e+09</td>\n",
       "      <td>0.735198</td>\n",
       "      <td>37.79-122.41</td>\n",
       "      <td>5</td>\n",
       "      <td>17</td>\n",
       "      <td>0</td>\n",
       "    </tr>\n",
       "  </tbody>\n",
       "</table>\n",
       "</div>"
      ],
      "text/plain": [
       "   latitude  longitude  occupation                time     taxi_id  \\\n",
       "0  37.79826 -122.26613           0 2008-05-17 17:25:37  new_adkavy   \n",
       "1  37.79596 -122.26824           0 2008-05-17 17:26:38  new_adkavy   \n",
       "2  37.80031 -122.27920           0 2008-05-17 17:27:47  new_adkavy   \n",
       "3  37.80219 -122.29588           0 2008-05-17 17:28:35  new_adkavy   \n",
       "4  37.81305 -122.30235           0 2008-05-17 17:29:35  new_adkavy   \n",
       "\n",
       "   next_latitude  next_longitude  next_occupation_status  \\\n",
       "0       37.79596      -122.26824                     0.0   \n",
       "1       37.80031      -122.27920                     0.0   \n",
       "2       37.80219      -122.29588                     0.0   \n",
       "3       37.81305      -122.30235                     0.0   \n",
       "4       37.82369      -122.30235                     0.0   \n",
       "\n",
       "   previous_occupation_status     next_time  distance_miles target_column  \\\n",
       "0                         NaN  1.211034e+09        0.196289  37.79-122.41   \n",
       "1                         0.0  1.211034e+09        0.669654  37.79-122.41   \n",
       "2                         0.0  1.211035e+09        0.919894  37.79-122.41   \n",
       "3                         0.0  1.211035e+09        0.829372  37.79-122.41   \n",
       "4                         0.0  1.211035e+09        0.735198  37.79-122.41   \n",
       "\n",
       "   day_of_week  hour  holiday  \n",
       "0            5    17        0  \n",
       "1            5    17        0  \n",
       "2            5    17        0  \n",
       "3            5    17        0  \n",
       "4            5    17        0  "
      ]
     },
     "execution_count": 3,
     "metadata": {},
     "output_type": "execute_result"
    }
   ],
   "source": [
    "all_df.head()"
   ]
  },
  {
   "cell_type": "markdown",
   "metadata": {},
   "source": [
    "First I wrote a function that aggregates by taxi id, find occupation status with zero and sum the distances. After that I multiply this value with 404 grams which an average passenger emits CO2 per mile. "
   ]
  },
  {
   "cell_type": "markdown",
   "metadata": {},
   "source": [
    "### USER DEFINED FUNCTIONS"
   ]
  },
  {
   "cell_type": "code",
   "execution_count": 4,
   "metadata": {},
   "outputs": [],
   "source": [
    "def agg_wo_passangers(df):\n",
    "    agg_df = pd.DataFrame(columns=['taxi_id','CO2_consumption'])\n",
    "    for taxi in df.taxi_id.unique():\n",
    "        #print(taxi)\n",
    "        temp_df = all_df[all_df['taxi_id']==taxi]\n",
    "        temp_df = temp_df[temp_df['occupation']==0]\n",
    "        total = temp_df.distance_miles.sum()\n",
    "        total = total*404\n",
    "        agg_df = agg_df.append({'taxi_id':taxi,'CO2_consumption':total},ignore_index=True)\n",
    "    return agg_df   "
   ]
  },
  {
   "cell_type": "code",
   "execution_count": 5,
   "metadata": {
    "scrolled": false
   },
   "outputs": [],
   "source": [
    "agg_df = agg_wo_passangers(all_df)"
   ]
  },
  {
   "cell_type": "markdown",
   "metadata": {},
   "source": [
    " with the below function, I intended to calculate total consumption if 15% percent of taxi cabs are changed to combustion engine powered vehicles. Also, I calculated the total consumption if none of the taxis are changed."
   ]
  },
  {
   "cell_type": "code",
   "execution_count": 10,
   "metadata": {},
   "outputs": [
    {
     "name": "stdout",
     "output_type": "stream",
     "text": [
      "CO2 reduction rate : 51.43 %\n"
     ]
    }
   ],
   "source": [
    "def calculate_reduction_rate():    \n",
    "    for month in range(12):\n",
    "        if month==0:\n",
    "            total_consumption=  agg_df.CO2_consumption.sum()\n",
    "            selected_df = agg_df.sample(frac=0.85)\n",
    "        else:\n",
    "            total_consumption = total_consumption + selected_df.CO2_consumption.sum()\n",
    "            selected_df = selected_df.sample(frac=0.85)\n",
    "        #print(total_consumption)\n",
    "    total_wo_electric = agg_df.CO2_consumption.sum()*12\n",
    "    CO2_red  = (total_wo_electric - total_consumption)/total_wo_electric\n",
    "    return CO2_red\n",
    "print(f'CO2 reduction rate : {round(calculate_reduction_rate() * 100,2)} %')"
   ]
  },
  {
   "cell_type": "markdown",
   "metadata": {},
   "source": [
    "I wanted to simulate whole process for 1000 times and want to see distrubiton of results"
   ]
  },
  {
   "cell_type": "markdown",
   "metadata": {},
   "source": [
    "### SIMULATION"
   ]
  },
  {
   "cell_type": "code",
   "execution_count": 11,
   "metadata": {},
   "outputs": [],
   "source": [
    "simulation_results = []\n",
    "for i in range(1000):\n",
    "    CO2_red = calculate_reduction_rate()\n",
    "    simulation_results.append(CO2_red)"
   ]
  },
  {
   "cell_type": "code",
   "execution_count": 12,
   "metadata": {},
   "outputs": [
    {
     "data": {
      "text/plain": [
       "Text(0, 0.5, 'count')"
      ]
     },
     "execution_count": 12,
     "metadata": {},
     "output_type": "execute_result"
    },
    {
     "data": {
      "image/png": "[encoded data removed]",
      "text/plain": [
       "<Figure size 432x288 with 1 Axes>"
      ]
     },
     "metadata": {
      "needs_background": "light"
     },
     "output_type": "display_data"
    }
   ],
   "source": [
    "plt.hist(simulation_results, bins='auto', color='#0504aa',\n",
    "                            alpha=0.7, rwidth=0.85)\n",
    "plt.title('Simulation results for CO2 emission')\n",
    "plt.xlabel('CO2 Emission reduction')\n",
    "plt.ylabel('count')"
   ]
  },
  {
   "cell_type": "code",
   "execution_count": null,
   "metadata": {},
   "outputs": [],
   "source": []
  }
 ],
 "metadata": {
  "kernelspec": {
   "display_name": "Python 3",
   "language": "python",
   "name": "python3"
  },
  "language_info": {
   "codemirror_mode": {
    "name": "ipython",
    "version": 3
   },
   "file_extension": ".py",
   "mimetype": "text/x-python",
   "name": "python",
   "nbconvert_exporter": "python",
   "pygments_lexer": "ipython3",
   "version": "3.7.7"
  }
 },
 "nbformat": 4,
 "nbformat_minor": 4
}
