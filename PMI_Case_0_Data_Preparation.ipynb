{
 "cells": [
  {
   "cell_type": "markdown",
   "metadata": {},
   "source": [
    "## DATA PREPARATION"
   ]
  },
  {
   "cell_type": "code",
   "execution_count": 1,
   "metadata": {},
   "outputs": [],
   "source": [
    "import pandas as pd\n",
    "import numpy as np\n",
    "from os import listdir\n",
    "from math import radians, cos, sin, asin, sqrt\n",
    "from datetime import datetime\n",
    "from matplotlib import pyplot as plt\n",
    "import holidays"
   ]
  },
  {
   "cell_type": "code",
   "execution_count": 2,
   "metadata": {},
   "outputs": [],
   "source": [
    "path = '/Users/tolgacan/taxi/cabspottingdata/'\n",
    "all_files = listdir(path)"
   ]
  },
  {
   "cell_type": "markdown",
   "metadata": {},
   "source": [
    "#### We have data for 538 cabs and collected over a month. Each file have 4 columns ('latitude,longitude,occupation,time)"
   ]
  },
  {
   "cell_type": "markdown",
   "metadata": {},
   "source": [
    "## READ DATA"
   ]
  },
  {
   "cell_type": "markdown",
   "metadata": {},
   "source": [
    "### USER DEFINED FUNCTIONS"
   ]
  },
  {
   "cell_type": "code",
   "execution_count": 3,
   "metadata": {},
   "outputs": [],
   "source": [
    "def read_data(filename):\n",
    "    initial_df = pd.read_csv(path+'/'+filename,sep=' ',header=None)\n",
    "    initial_df.columns = ['latitude','longitude','occupation','time']\n",
    "    taxi_id = filename.split('.')[0]\n",
    "    initial_df['taxi_id'] = taxi_id\n",
    "    return initial_df"
   ]
  },
  {
   "cell_type": "code",
   "execution_count": 4,
   "metadata": {},
   "outputs": [],
   "source": [
    "#creating shifted columns to use for different purposes\n",
    "def generate_lag_columns(df):\n",
    "    df['next_latitude'] = df.latitude.shift(-1)\n",
    "    df['next_longitude'] = df.longitude.shift(-1)\n",
    "    df['next_occupation_status']=df.occupation.shift(-1)\n",
    "    df['previous_occupation_status']=df.occupation.shift(1)\n",
    "    df['next_time'] = df.time.shift(-1)\n",
    "    return df"
   ]
  },
  {
   "cell_type": "code",
   "execution_count": 5,
   "metadata": {},
   "outputs": [],
   "source": [
    "##https://www.geeksforgeeks.org/program-distance-two-points-earth/\n",
    "def distance(lat1, lat2, lon1, lon2):\n",
    "     \n",
    "    lon1 = radians(lon1)\n",
    "    lon2 = radians(lon2)\n",
    "    lat1 = radians(lat1)\n",
    "    lat2 = radians(lat2)\n",
    "      \n",
    "    dlon = lon2 - lon1\n",
    "    dlat = lat2 - lat1\n",
    "    a = sin(dlat / 2)**2 + cos(lat1) * cos(lat2) * sin(dlon / 2)**2\n",
    "    c = 2 * asin(sqrt(a))    \n",
    "    r = 3959\n",
    "\n",
    "    return(c * r)"
   ]
  },
  {
   "cell_type": "code",
   "execution_count": 6,
   "metadata": {},
   "outputs": [],
   "source": [
    "#function that calculate distance in miles between current and next location\n",
    "def calculate_distance(df):\n",
    "    df['distance_miles'] = [distance(x[0],x[5],x[1],x[6]) for x in df.values ]\n",
    "    return df"
   ]
  },
  {
   "cell_type": "markdown",
   "metadata": {},
   "source": [
    "I have identified target variable as following:\n",
    "when taxi status is \"0\", I found the next line which occupation status is \"1\" and write latitude and longitude information as target variable.\n",
    "My assumption here, taxi is occupied when we see occupation 1 not before the line. it is same for 0 status."
   ]
  },
  {
   "cell_type": "code",
   "execution_count": 7,
   "metadata": {},
   "outputs": [],
   "source": [
    "def calculation_target_variable(df):\n",
    "    #find indexes which occupation status changes from 1 to 0 and 0 to 1.\n",
    "    status_df_from_0_to_1 = df[(df['occupation']==1)& (df['previous_occupation_status']==0)]\n",
    "    status_df_from_1_to_0 = df[(df['occupation']==0)& (df['previous_occupation_status']==1)]\n",
    "    df['target_column'] = ''\n",
    "    if df.loc[0,'occupation'] ==0: #if file is started with the occupation status 0\n",
    "        for idx in range(len(status_df_from_0_to_1)):\n",
    "            idx_position0 = status_df_from_1_to_0.index[idx-1] #find index when it turns to 0\n",
    "            idx_position1 = status_df_from_0_to_1.index[idx] #find index when it turns to 1\n",
    "            if idx==0:\n",
    "                #write the latitude and longitude together to target column when returns to 1\n",
    "                df.loc[:idx_position1-1,'target_column'] = str(round(status_df_from_0_to_1.loc[idx_position1,'latitude'],2))+str(round(status_df_from_0_to_1.loc[idx_position1,'longitude'],2))\n",
    "            else:\n",
    "                df.loc[idx_position0-1:idx_position1-1,'target_column'] =\\\n",
    "                str(round(status_df_from_0_to_1.loc[idx_position1,'latitude'],2))+str(round(status_df_from_0_to_1.loc[idx_position1,'longitude'],2))\n",
    "    else: #if file starts with occupation status 1\n",
    "        for idx in range(len(status_df_from_0_to_1)):\n",
    "            if idx != 0:\n",
    "                idx_position0 = status_df_from_1_to_0.index[idx-1]\n",
    "                idx_position1 = status_df_from_0_to_1.index[idx-1]\n",
    "                df.loc[idx_position0-1:idx_position1-1,'target_column'] =\\\n",
    "                str(round(status_df_from_0_to_1.loc[idx_position1,'latitude'],2))+str(round(status_df_from_0_to_1.loc[idx_position1,'longitude'],2))\n",
    "    return df"
   ]
  },
  {
   "cell_type": "code",
   "execution_count": 8,
   "metadata": {},
   "outputs": [],
   "source": [
    "#converting timestamp column to datetime format, also make some feature engineering like getting day_of_week,hour,holiday etc.\n",
    "def generate_time_columns(df):\n",
    "    df['time'] = [datetime.fromtimestamp(x) for x in df['time']]\n",
    "    df['day_of_week'] = [x.weekday() for x in df['time']]\n",
    "    df['hour'] = df['time'].dt.hour\n",
    "    us_holidays = holidays.CountryHoliday('US', prov=None, state='CA')\n",
    "    df['holiday'] = [1 if x in us_holidays else 0 for x in df['time']]\n",
    "    return df"
   ]
  },
  {
   "cell_type": "code",
   "execution_count": 9,
   "metadata": {
    "scrolled": true
   },
   "outputs": [],
   "source": [
    "#reading all taxi cabs files\n",
    "all_df = pd.DataFrame()\n",
    "for file in all_files:\n",
    "    df = read_data(file)\n",
    "    df = generate_lag_columns(df)\n",
    "    df = calculate_distance(df)\n",
    "    df = calculation_target_variable(df)\n",
    "    df = generate_time_columns(df)\n",
    "    all_df = all_df.append(df)"
   ]
  },
  {
   "cell_type": "code",
   "execution_count": 10,
   "metadata": {},
   "outputs": [
    {
     "data": {
      "text/plain": [
       "(11220058, 15)"
      ]
     },
     "execution_count": 10,
     "metadata": {},
     "output_type": "execute_result"
    }
   ],
   "source": [
    "all_df.shape"
   ]
  },
  {
   "cell_type": "code",
   "execution_count": 11,
   "metadata": {},
   "outputs": [
    {
     "data": {
      "text/html": [
       "<div>\n",
       "<style scoped>\n",
       "    .dataframe tbody tr th:only-of-type {\n",
       "        vertical-align: middle;\n",
       "    }\n",
       "\n",
       "    .dataframe tbody tr th {\n",
       "        vertical-align: top;\n",
       "    }\n",
       "\n",
       "    .dataframe thead th {\n",
       "        text-align: right;\n",
       "    }\n",
       "</style>\n",
       "<table border=\"1\" class=\"dataframe\">\n",
       "  <thead>\n",
       "    <tr style=\"text-align: right;\">\n",
       "      <th></th>\n",
       "      <th>latitude</th>\n",
       "      <th>longitude</th>\n",
       "      <th>occupation</th>\n",
       "      <th>next_latitude</th>\n",
       "      <th>next_longitude</th>\n",
       "      <th>next_occupation_status</th>\n",
       "      <th>previous_occupation_status</th>\n",
       "      <th>next_time</th>\n",
       "      <th>distance_miles</th>\n",
       "      <th>day_of_week</th>\n",
       "      <th>hour</th>\n",
       "      <th>holiday</th>\n",
       "    </tr>\n",
       "  </thead>\n",
       "  <tbody>\n",
       "    <tr>\n",
       "      <th>count</th>\n",
       "      <td>11220058.00</td>\n",
       "      <td>11220058.00</td>\n",
       "      <td>11220058.00</td>\n",
       "      <td>11219521.00</td>\n",
       "      <td>11219521.00</td>\n",
       "      <td>11219521.00</td>\n",
       "      <td>11219521.00</td>\n",
       "      <td>11219521.00</td>\n",
       "      <td>11219521.00</td>\n",
       "      <td>11220058.00</td>\n",
       "      <td>11220058.00</td>\n",
       "      <td>11220058.00</td>\n",
       "    </tr>\n",
       "    <tr>\n",
       "      <th>mean</th>\n",
       "      <td>37.76</td>\n",
       "      <td>-122.41</td>\n",
       "      <td>0.45</td>\n",
       "      <td>37.76</td>\n",
       "      <td>-122.41</td>\n",
       "      <td>0.45</td>\n",
       "      <td>0.45</td>\n",
       "      <td>1212036423.61</td>\n",
       "      <td>0.26</td>\n",
       "      <td>3.12</td>\n",
       "      <td>11.16</td>\n",
       "      <td>0.04</td>\n",
       "    </tr>\n",
       "    <tr>\n",
       "      <th>std</th>\n",
       "      <td>0.05</td>\n",
       "      <td>0.04</td>\n",
       "      <td>0.50</td>\n",
       "      <td>0.05</td>\n",
       "      <td>0.04</td>\n",
       "      <td>0.50</td>\n",
       "      <td>0.50</td>\n",
       "      <td>588542.74</td>\n",
       "      <td>1.41</td>\n",
       "      <td>2.09</td>\n",
       "      <td>7.21</td>\n",
       "      <td>0.19</td>\n",
       "    </tr>\n",
       "    <tr>\n",
       "      <th>min</th>\n",
       "      <td>32.87</td>\n",
       "      <td>-127.08</td>\n",
       "      <td>0.00</td>\n",
       "      <td>32.87</td>\n",
       "      <td>-127.08</td>\n",
       "      <td>0.00</td>\n",
       "      <td>0.00</td>\n",
       "      <td>1211018409.00</td>\n",
       "      <td>0.00</td>\n",
       "      <td>0.00</td>\n",
       "      <td>0.00</td>\n",
       "      <td>0.00</td>\n",
       "    </tr>\n",
       "    <tr>\n",
       "      <th>25%</th>\n",
       "      <td>37.76</td>\n",
       "      <td>-122.43</td>\n",
       "      <td>0.00</td>\n",
       "      <td>37.76</td>\n",
       "      <td>-122.43</td>\n",
       "      <td>0.00</td>\n",
       "      <td>0.00</td>\n",
       "      <td>1211522891.00</td>\n",
       "      <td>0.02</td>\n",
       "      <td>1.00</td>\n",
       "      <td>5.00</td>\n",
       "      <td>0.00</td>\n",
       "    </tr>\n",
       "    <tr>\n",
       "      <th>50%</th>\n",
       "      <td>37.78</td>\n",
       "      <td>-122.41</td>\n",
       "      <td>0.00</td>\n",
       "      <td>37.78</td>\n",
       "      <td>-122.41</td>\n",
       "      <td>0.00</td>\n",
       "      <td>0.00</td>\n",
       "      <td>1212043253.00</td>\n",
       "      <td>0.15</td>\n",
       "      <td>3.00</td>\n",
       "      <td>10.00</td>\n",
       "      <td>0.00</td>\n",
       "    </tr>\n",
       "    <tr>\n",
       "      <th>75%</th>\n",
       "      <td>37.79</td>\n",
       "      <td>-122.40</td>\n",
       "      <td>1.00</td>\n",
       "      <td>37.79</td>\n",
       "      <td>-122.40</td>\n",
       "      <td>1.00</td>\n",
       "      <td>1.00</td>\n",
       "      <td>1212548825.00</td>\n",
       "      <td>0.29</td>\n",
       "      <td>5.00</td>\n",
       "      <td>18.00</td>\n",
       "      <td>0.00</td>\n",
       "    </tr>\n",
       "    <tr>\n",
       "      <th>max</th>\n",
       "      <td>50.31</td>\n",
       "      <td>-115.56</td>\n",
       "      <td>1.00</td>\n",
       "      <td>50.31</td>\n",
       "      <td>-115.56</td>\n",
       "      <td>1.00</td>\n",
       "      <td>1.00</td>\n",
       "      <td>1213089934.00</td>\n",
       "      <td>877.17</td>\n",
       "      <td>6.00</td>\n",
       "      <td>23.00</td>\n",
       "      <td>1.00</td>\n",
       "    </tr>\n",
       "  </tbody>\n",
       "</table>\n",
       "</div>"
      ],
      "text/plain": [
       "         latitude   longitude  occupation  next_latitude  next_longitude  \\\n",
       "count 11220058.00 11220058.00 11220058.00    11219521.00     11219521.00   \n",
       "mean        37.76     -122.41        0.45          37.76         -122.41   \n",
       "std          0.05        0.04        0.50           0.05            0.04   \n",
       "min         32.87     -127.08        0.00          32.87         -127.08   \n",
       "25%         37.76     -122.43        0.00          37.76         -122.43   \n",
       "50%         37.78     -122.41        0.00          37.78         -122.41   \n",
       "75%         37.79     -122.40        1.00          37.79         -122.40   \n",
       "max         50.31     -115.56        1.00          50.31         -115.56   \n",
       "\n",
       "       next_occupation_status  previous_occupation_status     next_time  \\\n",
       "count             11219521.00                 11219521.00   11219521.00   \n",
       "mean                     0.45                        0.45 1212036423.61   \n",
       "std                      0.50                        0.50     588542.74   \n",
       "min                      0.00                        0.00 1211018409.00   \n",
       "25%                      0.00                        0.00 1211522891.00   \n",
       "50%                      0.00                        0.00 1212043253.00   \n",
       "75%                      1.00                        1.00 1212548825.00   \n",
       "max                      1.00                        1.00 1213089934.00   \n",
       "\n",
       "       distance_miles  day_of_week        hour     holiday  \n",
       "count     11219521.00  11220058.00 11220058.00 11220058.00  \n",
       "mean             0.26         3.12       11.16        0.04  \n",
       "std              1.41         2.09        7.21        0.19  \n",
       "min              0.00         0.00        0.00        0.00  \n",
       "25%              0.02         1.00        5.00        0.00  \n",
       "50%              0.15         3.00       10.00        0.00  \n",
       "75%              0.29         5.00       18.00        0.00  \n",
       "max            877.17         6.00       23.00        1.00  "
      ]
     },
     "execution_count": 11,
     "metadata": {},
     "output_type": "execute_result"
    }
   ],
   "source": [
    "pd.set_option('display.float_format', lambda x: '%.2f' % x)\n",
    "all_df.describe()"
   ]
  },
  {
   "cell_type": "markdown",
   "metadata": {},
   "source": [
    "### SAVE TO PICKLE FILE"
   ]
  },
  {
   "cell_type": "code",
   "execution_count": 12,
   "metadata": {},
   "outputs": [],
   "source": [
    "all_df.to_pickle('all_df.pkl')"
   ]
  },
  {
   "cell_type": "code",
   "execution_count": null,
   "metadata": {},
   "outputs": [],
   "source": []
  }
 ],
 "metadata": {
  "kernelspec": {
   "display_name": "Python 3",
   "language": "python",
   "name": "python3"
  },
  "language_info": {
   "codemirror_mode": {
    "name": "ipython",
    "version": 3
   },
   "file_extension": ".py",
   "mimetype": "text/x-python",
   "name": "python",
   "nbconvert_exporter": "python",
   "pygments_lexer": "ipython3",
   "version": "3.7.7"
  }
 },
 "nbformat": 4,
 "nbformat_minor": 4
}
